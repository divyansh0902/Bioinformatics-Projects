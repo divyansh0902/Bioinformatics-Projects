{
 "cells": [
  {
   "cell_type": "code",
   "execution_count": 1,
   "id": "166caf33",
   "metadata": {},
   "outputs": [],
   "source": [
    "import Bio"
   ]
  },
  {
   "cell_type": "code",
   "execution_count": 2,
   "id": "afb29b5f",
   "metadata": {},
   "outputs": [
    {
     "data": {
      "text/plain": [
       "['BiopythonDeprecationWarning',\n",
       " 'BiopythonExperimentalWarning',\n",
       " 'BiopythonParserWarning',\n",
       " 'BiopythonWarning',\n",
       " 'MissingExternalDependencyError',\n",
       " 'MissingPythonDependencyError',\n",
       " 'StreamModeError',\n",
       " '__builtins__',\n",
       " '__cached__',\n",
       " '__doc__',\n",
       " '__file__',\n",
       " '__loader__',\n",
       " '__name__',\n",
       " '__package__',\n",
       " '__path__',\n",
       " '__spec__',\n",
       " '__version__',\n",
       " '_parent_dir',\n",
       " 'os',\n",
       " 'warnings']"
      ]
     },
     "execution_count": 2,
     "metadata": {},
     "output_type": "execute_result"
    }
   ],
   "source": [
    "dir(Bio)"
   ]
  },
  {
   "cell_type": "code",
   "execution_count": 3,
   "id": "9d5c7cdb",
   "metadata": {},
   "outputs": [],
   "source": [
    "# working with sequence\n",
    "from Bio.Seq import Seq"
   ]
  },
  {
   "cell_type": "code",
   "execution_count": 4,
   "id": "f145238f",
   "metadata": {},
   "outputs": [],
   "source": [
    "#create a sequence\n",
    "dna = Seq('ATGATCTCGTAA')"
   ]
  },
  {
   "cell_type": "code",
   "execution_count": 5,
   "id": "15d49488",
   "metadata": {},
   "outputs": [
    {
     "data": {
      "text/plain": [
       "Seq('ATGATCTCGTAA')"
      ]
     },
     "execution_count": 5,
     "metadata": {},
     "output_type": "execute_result"
    }
   ],
   "source": [
    "dna"
   ]
  },
  {
   "cell_type": "code",
   "execution_count": 6,
   "id": "d8ff29f8",
   "metadata": {},
   "outputs": [
    {
     "data": {
      "text/plain": [
       "Bio.Seq.Seq"
      ]
     },
     "execution_count": 6,
     "metadata": {},
     "output_type": "execute_result"
    }
   ],
   "source": [
    "type(dna)"
   ]
  },
  {
   "cell_type": "code",
   "execution_count": 7,
   "id": "3197d25e",
   "metadata": {},
   "outputs": [
    {
     "name": "stdout",
     "output_type": "stream",
     "text": [
      "ATGATCTCGTAA\n"
     ]
    }
   ],
   "source": [
    "print(dna)"
   ]
  },
  {
   "cell_type": "code",
   "execution_count": 8,
   "id": "a8dd6f6c",
   "metadata": {},
   "outputs": [
    {
     "data": {
      "text/plain": [
       "Seq('ATG')"
      ]
     },
     "execution_count": 8,
     "metadata": {},
     "output_type": "execute_result"
    }
   ],
   "source": [
    "#slicing\n",
    "dna[0:3]"
   ]
  },
  {
   "cell_type": "code",
   "execution_count": 9,
   "id": "22bf83dd",
   "metadata": {},
   "outputs": [],
   "source": [
    "seq2 = Seq('ATTATCGCCGTAA')"
   ]
  },
  {
   "cell_type": "code",
   "execution_count": 10,
   "id": "491dd54a",
   "metadata": {},
   "outputs": [
    {
     "data": {
      "text/plain": [
       "Seq('ATGATTATCGCCGTAA')"
      ]
     },
     "execution_count": 10,
     "metadata": {},
     "output_type": "execute_result"
    }
   ],
   "source": [
    "#joining 2 sequences\n",
    "dna[:3] + seq2"
   ]
  },
  {
   "cell_type": "code",
   "execution_count": 11,
   "id": "5ea1301f",
   "metadata": {},
   "outputs": [
    {
     "data": {
      "text/plain": [
       "4"
      ]
     },
     "execution_count": 11,
     "metadata": {},
     "output_type": "execute_result"
    }
   ],
   "source": [
    "#find a nucleotide number\n",
    "dna.count('A')"
   ]
  },
  {
   "cell_type": "code",
   "execution_count": 12,
   "id": "9fcaf2df",
   "metadata": {},
   "outputs": [
    {
     "data": {
      "text/plain": [
       "1"
      ]
     },
     "execution_count": 12,
     "metadata": {},
     "output_type": "execute_result"
    }
   ],
   "source": [
    "#find a codon (3 nucleotides)\n",
    "dna.count('ATG')"
   ]
  },
  {
   "cell_type": "code",
   "execution_count": 13,
   "id": "e7a74205",
   "metadata": {},
   "outputs": [
    {
     "data": {
      "text/plain": [
       "2"
      ]
     },
     "execution_count": 13,
     "metadata": {},
     "output_type": "execute_result"
    }
   ],
   "source": [
    "dna.count('TC')"
   ]
  },
  {
   "cell_type": "code",
   "execution_count": 14,
   "id": "daa87c10",
   "metadata": {},
   "outputs": [
    {
     "data": {
      "text/plain": [
       "12"
      ]
     },
     "execution_count": 14,
     "metadata": {},
     "output_type": "execute_result"
    }
   ],
   "source": [
    "#length of sequence\n",
    "len(dna)"
   ]
  },
  {
   "cell_type": "code",
   "execution_count": 15,
   "id": "9d92f263",
   "metadata": {},
   "outputs": [
    {
     "data": {
      "text/plain": [
       "2"
      ]
     },
     "execution_count": 15,
     "metadata": {},
     "output_type": "execute_result"
    }
   ],
   "source": [
    "#find the location of a nucleotide\n",
    "dna.find('G')"
   ]
  },
  {
   "cell_type": "code",
   "execution_count": 16,
   "id": "11ed1630",
   "metadata": {},
   "outputs": [
    {
     "data": {
      "text/plain": [
       "1"
      ]
     },
     "execution_count": 16,
     "metadata": {},
     "output_type": "execute_result"
    }
   ],
   "source": [
    "#overall count\n",
    "dna.count_overlap('GT')"
   ]
  },
  {
   "cell_type": "markdown",
   "id": "cd8b048f",
   "metadata": {},
   "source": [
    "# protein sequence"
   ]
  },
  {
   "cell_type": "code",
   "execution_count": 17,
   "id": "6c258ac0",
   "metadata": {},
   "outputs": [
    {
     "data": {
      "text/plain": [
       "Seq('ATGATCTCGTAA')"
      ]
     },
     "execution_count": 17,
     "metadata": {},
     "output_type": "execute_result"
    }
   ],
   "source": [
    "dna"
   ]
  },
  {
   "cell_type": "code",
   "execution_count": 18,
   "id": "ae3f2eba",
   "metadata": {},
   "outputs": [],
   "source": [
    "#transcribe\n",
    "#dna to rna\n",
    "mRNA= dna.transcribe()"
   ]
  },
  {
   "cell_type": "code",
   "execution_count": 19,
   "id": "2fa54db2",
   "metadata": {},
   "outputs": [
    {
     "data": {
      "text/plain": [
       "Seq('MIS*')"
      ]
     },
     "execution_count": 19,
     "metadata": {},
     "output_type": "execute_result"
    }
   ],
   "source": [
    "#translate\n",
    "#mRNA to protein\n",
    "mRNA.translate()"
   ]
  },
  {
   "cell_type": "code",
   "execution_count": 20,
   "id": "e0141d40",
   "metadata": {},
   "outputs": [
    {
     "data": {
      "text/plain": [
       "Seq('MIS@')"
      ]
     },
     "execution_count": 20,
     "metadata": {},
     "output_type": "execute_result"
    }
   ],
   "source": [
    "mRNA.translate(stop_symbol='@')"
   ]
  },
  {
   "cell_type": "code",
   "execution_count": 21,
   "id": "3af9dd54",
   "metadata": {},
   "outputs": [
    {
     "data": {
      "text/plain": [
       "Seq('TACTAGAGCATT')"
      ]
     },
     "execution_count": 21,
     "metadata": {},
     "output_type": "execute_result"
    }
   ],
   "source": [
    "#complement\n",
    "dna.complement()"
   ]
  },
  {
   "cell_type": "code",
   "execution_count": 22,
   "id": "a59b4c43",
   "metadata": {},
   "outputs": [
    {
     "data": {
      "text/plain": [
       "Seq('TTACGAGATCAT')"
      ]
     },
     "execution_count": 22,
     "metadata": {},
     "output_type": "execute_result"
    }
   ],
   "source": [
    "#reverse completment\n",
    "dna.reverse_complement()"
   ]
  },
  {
   "cell_type": "code",
   "execution_count": 23,
   "id": "e74b3a0c",
   "metadata": {},
   "outputs": [
    {
     "data": {
      "text/plain": [
       "Seq('MIS*')"
      ]
     },
     "execution_count": 23,
     "metadata": {},
     "output_type": "execute_result"
    }
   ],
   "source": [
    "#direct translation to amino acid\n",
    "dna.translate()"
   ]
  },
  {
   "cell_type": "code",
   "execution_count": 24,
   "id": "611e1cbf",
   "metadata": {},
   "outputs": [
    {
     "data": {
      "text/plain": [
       "Seq('AUGAUCUCGUAA')"
      ]
     },
     "execution_count": 24,
     "metadata": {},
     "output_type": "execute_result"
    }
   ],
   "source": [
    "mRNA"
   ]
  },
  {
   "cell_type": "code",
   "execution_count": 25,
   "id": "03666086",
   "metadata": {},
   "outputs": [
    {
     "data": {
      "text/plain": [
       "Seq('ATGATCTCGTAA')"
      ]
     },
     "execution_count": 25,
     "metadata": {},
     "output_type": "execute_result"
    }
   ],
   "source": [
    "#convert mrna to dna\n",
    "mRNA.back_transcribe()"
   ]
  },
  {
   "cell_type": "code",
   "execution_count": 26,
   "id": "ee632088",
   "metadata": {},
   "outputs": [
    {
     "data": {
      "text/plain": [
       "['AmbiguousCodonTable',\n",
       " 'AmbiguousForwardTable',\n",
       " 'CodonTable',\n",
       " 'IUPACData',\n",
       " 'NCBICodonTable',\n",
       " 'NCBICodonTableDNA',\n",
       " 'NCBICodonTableRNA',\n",
       " 'TranslationError',\n",
       " '__builtins__',\n",
       " '__cached__',\n",
       " '__doc__',\n",
       " '__file__',\n",
       " '__loader__',\n",
       " '__name__',\n",
       " '__package__',\n",
       " '__spec__',\n",
       " 'ambiguous_dna_by_id',\n",
       " 'ambiguous_dna_by_name',\n",
       " 'ambiguous_generic_by_id',\n",
       " 'ambiguous_generic_by_name',\n",
       " 'ambiguous_rna_by_id',\n",
       " 'ambiguous_rna_by_name',\n",
       " 'generic_by_id',\n",
       " 'generic_by_name',\n",
       " 'list_ambiguous_codons',\n",
       " 'list_possible_proteins',\n",
       " 'make_back_table',\n",
       " 'register_ncbi_table',\n",
       " 'standard_dna_table',\n",
       " 'standard_rna_table',\n",
       " 'unambiguous_dna_by_id',\n",
       " 'unambiguous_dna_by_name',\n",
       " 'unambiguous_rna_by_id',\n",
       " 'unambiguous_rna_by_name']"
      ]
     },
     "execution_count": 26,
     "metadata": {},
     "output_type": "execute_result"
    }
   ],
   "source": [
    "#view codon table\n",
    "from Bio.Data import CodonTable\n",
    "dir(CodonTable)"
   ]
  },
  {
   "cell_type": "code",
   "execution_count": 27,
   "id": "d5c7b009",
   "metadata": {},
   "outputs": [
    {
     "name": "stdout",
     "output_type": "stream",
     "text": [
      "Table 1 Standard, SGC0\n",
      "\n",
      "  |  T      |  C      |  A      |  G      |\n",
      "--+---------+---------+---------+---------+--\n",
      "T | TTT F   | TCT S   | TAT Y   | TGT C   | T\n",
      "T | TTC F   | TCC S   | TAC Y   | TGC C   | C\n",
      "T | TTA L   | TCA S   | TAA Stop| TGA Stop| A\n",
      "T | TTG L(s)| TCG S   | TAG Stop| TGG W   | G\n",
      "--+---------+---------+---------+---------+--\n",
      "C | CTT L   | CCT P   | CAT H   | CGT R   | T\n",
      "C | CTC L   | CCC P   | CAC H   | CGC R   | C\n",
      "C | CTA L   | CCA P   | CAA Q   | CGA R   | A\n",
      "C | CTG L(s)| CCG P   | CAG Q   | CGG R   | G\n",
      "--+---------+---------+---------+---------+--\n",
      "A | ATT I   | ACT T   | AAT N   | AGT S   | T\n",
      "A | ATC I   | ACC T   | AAC N   | AGC S   | C\n",
      "A | ATA I   | ACA T   | AAA K   | AGA R   | A\n",
      "A | ATG M(s)| ACG T   | AAG K   | AGG R   | G\n",
      "--+---------+---------+---------+---------+--\n",
      "G | GTT V   | GCT A   | GAT D   | GGT G   | T\n",
      "G | GTC V   | GCC A   | GAC D   | GGC G   | C\n",
      "G | GTA V   | GCA A   | GAA E   | GGA G   | A\n",
      "G | GTG V   | GCG A   | GAG E   | GGG G   | G\n",
      "--+---------+---------+---------+---------+--\n"
     ]
    }
   ],
   "source": [
    "print(CodonTable.unambiguous_dna_by_name['Standard'])"
   ]
  },
  {
   "cell_type": "code",
   "execution_count": 28,
   "id": "63123d94",
   "metadata": {},
   "outputs": [
    {
     "name": "stdout",
     "output_type": "stream",
     "text": [
      "Table 1 Standard, SGC0\n",
      "\n",
      "  |  U      |  C      |  A      |  G      |\n",
      "--+---------+---------+---------+---------+--\n",
      "U | UUU F   | UCU S   | UAU Y   | UGU C   | U\n",
      "U | UUC F   | UCC S   | UAC Y   | UGC C   | C\n",
      "U | UUA L   | UCA S   | UAA Stop| UGA Stop| A\n",
      "U | UUG L(s)| UCG S   | UAG Stop| UGG W   | G\n",
      "--+---------+---------+---------+---------+--\n",
      "C | CUU L   | CCU P   | CAU H   | CGU R   | U\n",
      "C | CUC L   | CCC P   | CAC H   | CGC R   | C\n",
      "C | CUA L   | CCA P   | CAA Q   | CGA R   | A\n",
      "C | CUG L(s)| CCG P   | CAG Q   | CGG R   | G\n",
      "--+---------+---------+---------+---------+--\n",
      "A | AUU I   | ACU T   | AAU N   | AGU S   | U\n",
      "A | AUC I   | ACC T   | AAC N   | AGC S   | C\n",
      "A | AUA I   | ACA T   | AAA K   | AGA R   | A\n",
      "A | AUG M(s)| ACG T   | AAG K   | AGG R   | G\n",
      "--+---------+---------+---------+---------+--\n",
      "G | GUU V   | GCU A   | GAU D   | GGU G   | U\n",
      "G | GUC V   | GCC A   | GAC D   | GGC G   | C\n",
      "G | GUA V   | GCA A   | GAA E   | GGA G   | A\n",
      "G | GUG V   | GCG A   | GAG E   | GGG G   | G\n",
      "--+---------+---------+---------+---------+--\n"
     ]
    }
   ],
   "source": [
    "#RNA\n",
    "print(CodonTable.unambiguous_rna_by_name['Standard'])"
   ]
  },
  {
   "cell_type": "markdown",
   "id": "37b6db04",
   "metadata": {},
   "source": [
    "# Analysis of covid19"
   ]
  },
  {
   "cell_type": "code",
   "execution_count": 29,
   "id": "a28cbbd2",
   "metadata": {},
   "outputs": [],
   "source": [
    "#load our file\n",
    "from Bio import SeqIO"
   ]
  },
  {
   "cell_type": "code",
   "execution_count": 30,
   "id": "b517d0cd",
   "metadata": {},
   "outputs": [
    {
     "name": "stdout",
     "output_type": "stream",
     "text": [
      "ID: MN908947.3\n",
      "Name: MN908947.3\n",
      "Description: MN908947.3 Severe acute respiratory syndrome coronavirus 2 isolate Wuhan-Hu-1, complete genome\n",
      "Number of features: 0\n",
      "Seq('ATTAAAGGTTTATACCTTCCCAGGTAACAAACCAACCAACTTTCGATCTCTTGT...AAA')\n"
     ]
    }
   ],
   "source": [
    "for record in SeqIO.parse('sequence.fasta', 'fasta'):\n",
    "    print(record)"
   ]
  },
  {
   "cell_type": "code",
   "execution_count": 31,
   "id": "7a95711c",
   "metadata": {},
   "outputs": [],
   "source": [
    "# doing our analysis\n",
    "ncov_record = SeqIO.read('sequence.fasta','fasta')"
   ]
  },
  {
   "cell_type": "code",
   "execution_count": 32,
   "id": "0ac6f2c0",
   "metadata": {},
   "outputs": [
    {
     "data": {
      "text/plain": [
       "SeqRecord(seq=Seq('ATTAAAGGTTTATACCTTCCCAGGTAACAAACCAACCAACTTTCGATCTCTTGT...AAA'), id='MN908947.3', name='MN908947.3', description='MN908947.3 Severe acute respiratory syndrome coronavirus 2 isolate Wuhan-Hu-1, complete genome', dbxrefs=[])"
      ]
     },
     "execution_count": 32,
     "metadata": {},
     "output_type": "execute_result"
    }
   ],
   "source": [
    "ncov_record"
   ]
  },
  {
   "cell_type": "code",
   "execution_count": 33,
   "id": "bf235294",
   "metadata": {},
   "outputs": [],
   "source": [
    "ncov_dna= ncov_record.seq"
   ]
  },
  {
   "cell_type": "code",
   "execution_count": 34,
   "id": "7cf7ff1b",
   "metadata": {},
   "outputs": [
    {
     "data": {
      "text/plain": [
       "Seq('ATTAAAGGTTTATACCTTCCCAGGTAACAAACCAACCAACTTTCGATCTCTTGT...AAA')"
      ]
     },
     "execution_count": 34,
     "metadata": {},
     "output_type": "execute_result"
    }
   ],
   "source": [
    "ncov_dna"
   ]
  },
  {
   "cell_type": "code",
   "execution_count": 35,
   "id": "3a2e7a4f",
   "metadata": {},
   "outputs": [
    {
     "data": {
      "text/plain": [
       "29903"
      ]
     },
     "execution_count": 35,
     "metadata": {},
     "output_type": "execute_result"
    }
   ],
   "source": [
    "len(ncov_dna)"
   ]
  },
  {
   "cell_type": "code",
   "execution_count": 36,
   "id": "6849ad4e",
   "metadata": {},
   "outputs": [],
   "source": [
    "#transcription\n",
    "ncov_mrna=ncov_dna.transcribe()"
   ]
  },
  {
   "cell_type": "code",
   "execution_count": 37,
   "id": "a81b334e",
   "metadata": {},
   "outputs": [
    {
     "data": {
      "text/plain": [
       "Seq('AUUAAAGGUUUAUACCUUCCCAGGUAACAAACCAACCAACUUUCGAUCUCUUGU...AAA')"
      ]
     },
     "execution_count": 37,
     "metadata": {},
     "output_type": "execute_result"
    }
   ],
   "source": [
    "ncov_mrna"
   ]
  },
  {
   "cell_type": "code",
   "execution_count": 38,
   "id": "7a5d75c6",
   "metadata": {},
   "outputs": [
    {
     "name": "stderr",
     "output_type": "stream",
     "text": [
      "C:\\Users\\mehak\\AppData\\Local\\Programs\\Python\\Python310\\lib\\site-packages\\Bio\\Seq.py:2979: BiopythonWarning: Partial codon, len(sequence) not a multiple of three. Explicitly trim the sequence or add trailing N before translation. This may become an error in future.\n",
      "  warnings.warn(\n"
     ]
    }
   ],
   "source": [
    "#translation\n",
    "ncov_protein=ncov_mrna.translate()"
   ]
  },
  {
   "cell_type": "code",
   "execution_count": 39,
   "id": "812de9cc",
   "metadata": {},
   "outputs": [
    {
     "data": {
      "text/plain": [
       "Seq('IKGLYLPR*QTNQLSISCRSVL*TNFKICVAVTRLHA*CTHAV*LITNYCR*QD...KKK')"
      ]
     },
     "execution_count": 39,
     "metadata": {},
     "output_type": "execute_result"
    }
   ],
   "source": [
    "ncov_protein"
   ]
  },
  {
   "cell_type": "code",
   "execution_count": 40,
   "id": "f93986eb",
   "metadata": {},
   "outputs": [
    {
     "data": {
      "text/plain": [
       "9967"
      ]
     },
     "execution_count": 40,
     "metadata": {},
     "output_type": "execute_result"
    }
   ],
   "source": [
    "len(ncov_protein)"
   ]
  },
  {
   "cell_type": "code",
   "execution_count": 41,
   "id": "cb648087",
   "metadata": {},
   "outputs": [],
   "source": [
    "#finding all AA seq before stop codon\n",
    "ncov_aa=ncov_protein.split('*')"
   ]
  },
  {
   "cell_type": "code",
   "execution_count": 42,
   "id": "b6fcc0a0",
   "metadata": {},
   "outputs": [
    {
     "data": {
      "text/plain": [
       "[Seq('IKGLYLPR'),\n",
       " Seq('QTNQLSISCRSVL'),\n",
       " Seq('TNFKICVAVTRLHA'),\n",
       " Seq('CTHAV'),\n",
       " Seq('LITNYCR'),\n",
       " Seq('QDTSNSSIFCRLLTVSSVLQPIISTSRFRPGVTER'),\n",
       " Seq('DGEPCPWFQRENTRPTQFACFTGSRRARTWLWRLRGGGLIRGTSTS'),\n",
       " Seq('RWHLWLSRS'),\n",
       " Seq('KRRFAST'),\n",
       " Seq('TALCVHQTFGCSNCTSWSCYG'),\n",
       " Seq('AGSRTRRHSVRS'),\n",
       " Seq('W'),\n",
       " Seq('DTWCPCPSCGRNTSGLPQGSSS'),\n",
       " Seq('ER'),\n",
       " Seq(''),\n",
       " Seq('RSWWP'),\n",
       " Seq('LRRRSKVI'),\n",
       " Seq('LRRRAWH'),\n",
       " Seq('SL'),\n",
       " Seq('RFSRKLEH'),\n",
       " Seq('T'),\n",
       " Seq('QWCYP'),\n",
       " Seq('THA'),\n",
       " Seq('A'),\n",
       " Seq('RRGIHSLCR'),\n",
       " Seq('QLLWP'),\n",
       " Seq('WLPS'),\n",
       " Seq('VH'),\n",
       " Seq('RPSSTCW'),\n",
       " Seq('SFMHFVRTTGLY'),\n",
       " Seq('H'),\n",
       " Seq('EGCILLP'),\n",
       " Seq('T'),\n",
       " Seq('A'),\n",
       " Seq('NCLVHGTF'),\n",
       " Seq('KEL'),\n",
       " Seq('IADTF'),\n",
       " Seq('N'),\n",
       " Seq('IGKEI'),\n",
       " Seq('HLQWGMSKFCISLKFHNQDYSTKG'),\n",
       " Seq('KEKA'),\n",
       " Seq('WLYG'),\n",
       " Seq('NSICLSSCVTK'),\n",
       " Seq('MQPNVPFNSHEV'),\n",
       " Seq('SLW'),\n",
       " Seq('NFMADGRFC'),\n",
       " Seq('SHLRILWH'),\n",
       " Seq('EFD'),\n",
       " Seq('RRCHYLWLLTPKCCC'),\n",
       " Seq('NLLSSMSQFRSRT'),\n",
       " Seq('A'),\n",
       " Seq('SCRIP'),\n",
       " Seq(''),\n",
       " Seq('IWLENHSS'),\n",
       " Seq('GWSHYCLWRLCVLLCWLP'),\n",
       " Seq('QVCLLGSTC'),\n",
       " Seq('R'),\n",
       " Seq('HRL'),\n",
       " Seq('PYRCCWRRFRRS'),\n",
       " Seq(''),\n",
       " Seq('QPS'),\n",
       " Seq('NTPKRESQHQYCW'),\n",
       " Seq('L'),\n",
       " Seq('T'),\n",
       " Seq(''),\n",
       " Seq('RDRHYFGIFFCFHKCFCGNCERFGL'),\n",
       " Seq('SIQTNC'),\n",
       " Seq('ILW'),\n",
       " Seq('F'),\n",
       " Seq('SYKRKS'),\n",
       " Seq('KRCLEYW'),\n",
       " Seq('TEINTESSLCICIRGCSCCTINFLPHS'),\n",
       " Seq('NCSKFCACFTEGRYNNTRWNFTVFTETH'),\n",
       " Seq('CYDVHI'),\n",
       " Seq('FGY'),\n",
       " Seq('QSSCNGLHYRWCCSVDFAVAN'),\n",
       " Seq('HLWHCL'),\n",
       " Seq('KTQTRP'),\n",
       " Seq('LA'),\n",
       " Seq('REV'),\n",
       " Seq('GRCRVS'),\n",
       " Seq('RRLGNC'),\n",
       " Seq('IYLNLCL'),\n",
       " Seq('NCRWTNCHLCKGN'),\n",
       " Seq('GECSDIL'),\n",
       " Seq('ACK'),\n",
       " Seq('IFGFVC'),\n",
       " Seq('LYHYWWS'),\n",
       " Seq('T'),\n",
       " Seq('SLEFR'),\n",
       " Seq('NICHALKGIVQKVC'),\n",
       " Seq('IQRRNWPTHASKSPKRNYLLRGRNTSHRSVNRGSCLENW'),\n",
       " Seq('FTTIRTTY'),\n",
       " Seq(''),\n",
       " Seq('SC'),\n",
       " Seq('SSIGWYTSLY'),\n",
       " Seq('RAYVARNQRHRKVLCPCT'),\n",
       " Seq('YDGNKQYLHTQRRCTNKGYFW'),\n",
       " Seq(''),\n",
       " Seq('HCDRSARLQECEYHF'),\n",
       " Seq('T'),\n",
       " Seq(''),\n",
       " Seq('KD'),\n",
       " Seq(''),\n",
       " Seq('ST'),\n",
       " Seq(''),\n",
       " Seq('EVLCLYS'),\n",
       " Seq('TRYRSK'),\n",
       " Seq('VRLCCGRCCHKNFATSI'),\n",
       " Seq('ITYTTGH'),\n",
       " Seq('FR'),\n",
       " Seq('VEYGYILLI'),\n",
       " Seq(''),\n",
       " Seq('VW'),\n",
       " Seq('V'),\n",
       " Seq('IGFTYVLFFLPSR'),\n",
       " Seq('G'),\n",
       " Seq('RRR'),\n",
       " Seq('L'),\n",
       " Seq('RRRV'),\n",
       " Seq('AINSI'),\n",
       " Seq('VWY'),\n",
       " Seq('R'),\n",
       " Seq('LPR'),\n",
       " Seq('TFGIWCHFCCSST'),\n",
       " Seq('RRARRRLVR'),\n",
       " Seq(''),\n",
       " Seq(''),\n",
       " Seq('STNCWSTRRQ'),\n",
       " Seq('GQSDNYYSNNC'),\n",
       " Seq('GSTSIRDGTYTSCSDY'),\n",
       " Seq('SE'),\n",
       " Seq('F'),\n",
       " Seq('WLFKTY'),\n",
       " Seq('QCIH'),\n",
       " Seq('KCRHCGRS'),\n",
       " Seq('KGKTNSGC'),\n",
       " Seq('CSQCLP'),\n",
       " Seq('TWRRCCRSLK'),\n",
       " Seq('GY'),\n",
       " Seq('QCHAS'),\n",
       " Seq('I'),\n",
       " Seq(''),\n",
       " Seq('LHSY'),\n",
       " Seq('WTT'),\n",
       " Seq('SGW'),\n",
       " Seq('LCFKRTQSC'),\n",
       " Seq('TLSSCCRPKC'),\n",
       " Seq('QR'),\n",
       " Seq('RHSTS'),\n",
       " Seq('ECL'),\n",
       " Seq('KF'),\n",
       " Seq('SARSSTCTIIISWYFWC'),\n",
       " Seq('PYTFFKSLCRYCSHKCLLSCL'),\n",
       " Seq(''),\n",
       " Seq('KSL'),\n",
       " Seq('QTCFKLFGNEE'),\n",
       " Seq('KAS'),\n",
       " Seq('TKDR'),\n",
       " Seq('DS'),\n",
       " Seq('RGS'),\n",
       " Seq('AIYN'),\n",
       " Seq('K'),\n",
       " Seq('TFS'),\n",
       " Seq('TEKTR'),\n",
       " Seq(''),\n",
       " Seq('ENQSLC'),\n",
       " Seq('RSYNNSGRN'),\n",
       " Seq('VPHRKLVTLY'),\n",
       " Seq('H'),\n",
       " Seq('WQSSSRFCHSC'),\n",
       " Seq(''),\n",
       " Seq('H'),\n",
       " Seq('HHFLKERCSIYSG'),\n",
       " Seq('CCSRGCFNCCGYTY'),\n",
       " Seq('KGWWHY'),\n",
       " Seq('NASESFEKSANRQLYNHLPGSGFKWLHCRGGKDSA'),\n",
       " Seq('KV'),\n",
       " Seq('KCLLHSTIYYL'),\n",
       " Seq(''),\n",
       " Seq('EARNSWNCFLEFARNACTCRRNTQINACLCGN'),\n",
       " Seq('SHSFNYTA'),\n",
       " Seq('I'),\n",
       " Seq('GY'),\n",
       " Seq('NTRGCG'),\n",
       " Seq('LWC'),\n",
       " Seq('ILLLHQ'),\n",
       " Seq('NNCSVTYQHT'),\n",
       " Seq('RSK'),\n",
       " Seq('NSCYNATWLCNTWLKFGRSCSVYEISQSASYSFCFFT'),\n",
       " Seq('CCYSV'),\n",
       " Seq('WLSYFFF'),\n",
       " Seq('NT'),\n",
       " Seq('RTFY'),\n",
       " Seq('NHLTCWFL'),\n",
       " Seq('RLVLFWTIYTTRYRIS'),\n",
       " Seq('ER'),\n",
       " Seq(''),\n",
       " Seq('KCILH'),\n",
       " Seq(''),\n",
       " Seq('SYHIPPRW'),\n",
       " Seq('SYHL'),\n",
       " Seq('QS'),\n",
       " Seq('DTSFFERSEDY'),\n",
       " Seq('GVYNSRQH'),\n",
       " Seq('PPHASCGHVNDIWTTVWSNLFGWS'),\n",
       " Seq('CY'),\n",
       " Seq('NKTS'),\n",
       " Seq('FT'),\n",
       " Seq('R'),\n",
       " Seq('NILCFT'),\n",
       " Seq(''),\n",
       " Seq(''),\n",
       " Seq('HSTC'),\n",
       " Seq('GF'),\n",
       " Seq('VLPHN'),\n",
       " Seq('S'),\n",
       " Seq('FSG'),\n",
       " Seq('VHVSIKSH'),\n",
       " Seq('KVEIPTS'),\n",
       " Seq('WFNFY'),\n",
       " Seq('MGR'),\n",
       " Seq('QLLSCHCIVNTPTNRVEV'),\n",
       " Seq('STCSTRCLLQSKGW'),\n",
       " Seq('SC'),\n",
       " Seq('LLCTYLSLL'),\n",
       " Seq(''),\n",
       " Seq('DSR'),\n",
       " Seq('VR'),\n",
       " Seq('C'),\n",
       " Seq('RNNELLVSTCQFRFLQKSLERGV'),\n",
       " Seq('NLWTTADNP'),\n",
       " Seq('GCRSCYVHGHTFL'),\n",
       " Seq('TI'),\n",
       " Seq('ERCSDTLYVW'),\n",
       " Seq('TSYKISSTTGVTFCYDVSTTCSV'),\n",
       " Seq('T'),\n",
       " Seq('AWYIYLC'),\n",
       " Seq(''),\n",
       " Seq('VHW'),\n",
       " Seq('LPVWSL'),\n",
       " Seq('TYNF'),\n",
       " Seq('RNFVLHRRCFTYKVLRIQRSYYGCFLQRKQLHNNHKTSYL'),\n",
       " Seq('IGWCCLYRN'),\n",
       " Seq('P'),\n",
       " Seq('VGQLL'),\n",
       " Seq('ERQFLFHRATN'),\n",
       " Seq('SCTKPTISKRKLR'),\n",
       " Seq('F'),\n",
       " Seq('VCM'),\n",
       " Seq(''),\n",
       " Seq('YQIC'),\n",
       " Seq(''),\n",
       " Seq('FKPVNWL'),\n",
       " Seq('ETCFKRA'),\n",
       " Seq('SYIFP'),\n",
       " Seq('LKW'),\n",
       " Seq('CGGY'),\n",
       " Seq('L'),\n",
       " Seq('TLHTLF'),\n",
       " Seq('ERS'),\n",
       " Seq('IVT'),\n",
       " Seq('TYCLAC'),\n",
       " Seq('QCN'),\n",
       " Seq(''),\n",
       " Seq('SHV'),\n",
       " Seq('TKYLVYTLSLEHKTS'),\n",
       " Seq('NIKFV'),\n",
       " Seq('CTEVRGRAGNG'),\n",
       " Seq('SCLRRSKTSL'),\n",
       " Seq('RSSGKSYHTERRS'),\n",
       " Seq('V'),\n",
       " Seq('CENYRSCRRHYT'),\n",
       " Seq('TSK'),\n",
       " Seq(''),\n",
       " Seq('FKNYRRGWPHRSNGCLCRQF'),\n",
       " Seq('SYY'),\n",
       " Seq('ET'),\n",
       " Seq(''),\n",
       " Seq('II'),\n",
       " Seq('SIRFENPCYSWFSCC'),\n",
       " Seq(''),\n",
       " Seq('CPLGYYS'),\n",
       " Seq('LC'),\n",
       " Seq('AFS'),\n",
       " Seq('QSC'),\n",
       " Seq('YNY'),\n",
       " Seq('HSYTVFKPCLY'),\n",
       " Seq('LYALFLYFIATIVYFY'),\n",
       " Seq('KYKF'),\n",
       " Seq('N'),\n",
       " Seq('SIYADYYSKEYC'),\n",
       " Seq('ECR'),\n",
       " Seq('ILSRGFI'),\n",
       " Seq('LFEVT'),\n",
       " Seq('FF'),\n",
       " Seq('TDKYYNLVFTIKCLPRFFNLLNRCFRCFNV'),\n",
       " Seq('FRHAFLLYWLQRRLFELY'),\n",
       " Seq('CHYCNLLYWFYTL'),\n",
       " Seq('CLS'),\n",
       " Seq('WFRFFRHLSFFRNYTNYHFIF'),\n",
       " Seq('MGFNCFWLSCRVVFGIYSFH'),\n",
       " Seq('VFLCTWIGCNHAIVFQLFCSTFY'),\n",
       " Seq(''),\n",
       " Seq('FLAYVVNN'),\n",
       " Seq('SCTNGPDFSYG'),\n",
       " Seq('NVHLLCIILLCMEKLCACCRRL'),\n",
       " Seq('FINLYDVLQT'),\n",
       " Seq(''),\n",
       " Seq('SNKSRMYNYC'),\n",
       " Seq('WC'),\n",
       " Seq('KVLLCLC'),\n",
       " Seq('WR'),\n",
       " Seq('RLLQTTQLELC'),\n",
       " Seq('L'),\n",
       " Seq('YILCW'),\n",
       " Seq('YIY'),\n",
       " Seq(''),\n",
       " Seq(''),\n",
       " Seq('SCERLVTTV'),\n",
       " Seq('KTNKSY'),\n",
       " Seq('PVFLHR'),\n",
       " Seq(''),\n",
       " Seq('CYSEEWFHPSLL'),\n",
       " Seq(''),\n",
       " Seq('SWSKDL'),\n",
       " Seq('KTFSLSFC'),\n",
       " Seq('LRQPES'),\n",
       " Seq(''),\n",
       " Seq('H'),\n",
       " Seq('RFIAY'),\n",
       " Seq('CYSF'),\n",
       " Seq('W'),\n",
       " Seq('IKM'),\n",
       " Seq('RIICKISVCLLQSAYVSTYTVTRSGISV'),\n",
       " Seq('CW'),\n",
       " Seq(''),\n",
       " Seq('CGSCS'),\n",
       " Seq('NV'),\n",
       " Seq('CLR'),\n",
       " Seq('YVFINF'),\n",
       " Seq('RTNGKTQNTSCNCRS'),\n",
       " Seq('TCKECVLRQCLIYFYFSSSARVC'),\n",
       " Seq('FRCRN'),\n",
       " Seq('RCC'),\n",
       " Seq('MS'),\n",
       " Seq('IVTSI'),\n",
       " Seq('HRSYWR'),\n",
       " Seq('L'),\n",
       " Seq(''),\n",
       " Seq('LYAHL'),\n",
       " Seq('QS'),\n",
       " Seq('KHDTP'),\n",
       " Seq('PWCLY'),\n",
       " Seq('L'),\n",
       " Seq('CASY'),\n",
       " Seq('CAGSKKSQHCFDMER'),\n",
       " Seq('RFHVIV'),\n",
       " Seq('TTTKTNT'),\n",
       " Seq('CC'),\n",
       " Seq('KE'),\n",
       " Seq('LTF'),\n",
       " Seq('VDMCNY'),\n",
       " Seq('TSC'),\n",
       " Seq('CCNNKDST'),\n",
       " Seq('GW'),\n",
       " Seq('NC'),\n",
       " Seq(''),\n",
       " Seq('LVEAVN'),\n",
       " Seq('SYTCVPFCCCYFLFNNTCSCHV'),\n",
       " Seq('TY'),\n",
       " Seq('LFK'),\n",
       " Seq('NHRIQGY'),\n",
       " Seq('WWCHS'),\n",
       " Seq('HSIYRYLFC'),\n",
       " Seq('QTC'),\n",
       " Seq('F'),\n",
       " Seq('HMV'),\n",
       " Seq('PAWW'),\n",
       " Seq('LY'),\n",
       " Seq(''),\n",
       " Seq('QSLPIDCCSHNKRSGFCRAWFAWHDITHN'),\n",
       " Seq('W'),\n",
       " Seq('LFAFLT'),\n",
       " Seq('SF'),\n",
       " Seq('CSW'),\n",
       " Seq('HLLHTIKTYRVH'),\n",
       " Seq('LCNISLCFGC'),\n",
       " Seq('MYNF'),\n",
       " Seq('RCFW'),\n",
       " Seq('ASTILL'),\n",
       " Seq('YQCTRRFCCL'),\n",
       " Seq('KFTP'),\n",
       " Seq('HTLCAHGWLYYSIS'),\n",
       " Seq('HLP'),\n",
       " Seq('RFC'),\n",
       " Seq('SGNNF'),\n",
       " Seq('F'),\n",
       " Seq('VL'),\n",
       " Seq('ARHL'),\n",
       " Seq('KIRSWCLCIY'),\n",
       " Seq('W'),\n",
       " Seq('MGT'),\n",
       " Seq('Q'),\n",
       " Seq('LLQIFTRSFLWCRCCKFTY'),\n",
       " Seq('YVYTTNSTYWCFGHISIYSSWWYCSYRSNMPCLLFYEV'),\n",
       " Seq('KSFW'),\n",
       " Seq('IQSCSCL'),\n",
       " Seq('YFTIPYVIHCTLFNTSLLILTWCLFCYLLVLDILSY'),\n",
       " Seq(''),\n",
       " Seq('CFFFSTYSVDGYVHTFSTFLDNNCLYHLYFHKAFLLVL'),\n",
       " Seq(''),\n",
       " Seq('LPKETCSL'),\n",
       " Seq('WCFL'),\n",
       " Seq('YF'),\n",
       " Seq('RSCAVHLFVK'),\n",
       " Seq('RNVSKVA'),\n",
       " Seq(''),\n",
       " Seq('CAITSYAI'),\n",
       " Seq(''),\n",
       " Seq('ILSSL'),\n",
       " Seq(''),\n",
       " Seq('VQVF'),\n",
       " Seq('WSNGYN'),\n",
       " Seq('LQRSCLLSSRKGSQ'),\n",
       " Seq('LQ'),\n",
       " Seq('LRF'),\n",
       " Seq('CSLPTTTNLYHLSCFAEWF'),\n",
       " Seq('KNGIPIW'),\n",
       " Seq('S'),\n",
       " Seq('GLYGTSNLWYNYT'),\n",
       " Seq('RSLA'),\n",
       " Seq(''),\n",
       " Seq('RSLLSKTCDLHL'),\n",
       " Seq('RHA'),\n",
       " Seq('P'),\n",
       " Seq('L'),\n",
       " Seq('RFTHS'),\n",
       " Seq('V'),\n",
       " Seq('S'),\n",
       " Seq('FLGTGW'),\n",
       " Seq('CSTQGYWTFYAKLCT'),\n",
       " Seq('A'),\n",
       " Seq('G'),\n",
       " Seq('YSQS'),\n",
       " Seq('DT'),\n",
       " Seq('V'),\n",
       " Seq('VCSHSTRTDFFSVSLLQWFTIWCLPMCYEAQFHY'),\n",
       " Seq('GFIP'),\n",
       " Seq('WFMW'),\n",
       " Seq('CWF'),\n",
       " Seq('HRL'),\n",
       " Seq('LCLFLLHAPYGITNWSSCWHRLRR'),\n",
       " Seq('LLWTFC'),\n",
       " Seq('QANSTSSWYGHNYYS'),\n",
       " Seq('CFSLVVRCCYKWRQVVSQSIYHNS'),\n",
       " Seq(''),\n",
       " Seq('L'),\n",
       " Seq('PCGYEVQL'),\n",
       " Seq('TSNTRPC'),\n",
       " Seq('HTRTSFCSNWNCRFRYVCFIKRITAKWYEWTYHIG'),\n",
       " Seq('CFIRR'),\n",
       " Seq('IYTF'),\n",
       " Seq('CC'),\n",
       " Seq('TMLRCYFPKCSEKNNQGYTPLVVTHNFDFTFSFSPEYSMVFVLFFV'),\n",
       " Seq('KCLFTFCYGYYCYVCFCNDVCQT'),\n",
       " Seq('ACISLFVFVTFSCHCSLF'),\n",
       " Seq('YGLYAC'),\n",
       " Seq('LGDAYYDMVGYG'),\n",
       " Seq('Y'),\n",
       " Seq('FVWF'),\n",
       " Seq('AKRLCYVCISCSVTNPYDSKNCV'),\n",
       " Seq(''),\n",
       " Seq('WC'),\n",
       " Seq('ESVDTYECLDTRL'),\n",
       " Seq('SLLW'),\n",
       " Seq('CFRSSHFHVGSYNLCYF'),\n",
       " Seq('LLRCSYNCHVFGQRYCFYVC'),\n",
       " Seq('VLPYFLHNW'),\n",
       " Seq('YTSVYNASLLFLRLFLYLLLWPLLFTQPLL'),\n",
       " Seq('TDSWCL'),\n",
       " Seq('LLSFYTGV'),\n",
       " Seq('IYEFTGTTPTQE'),\n",
       " Seq('HRCLQTQH'),\n",
       " Seq('IVGCWWQTLYQSSHCTV'),\n",
       " Seq('NVRCKVHISSLTLSFATTQSRIII'),\n",
       " Seq('IVGSMCPVTQ'),\n",
       " Seq('HSLS'),\n",
       " Seq('RYY'),\n",
       " Seq('SL'),\n",
       " Seq('KNGFTTFCFAFHAGCCRHKQAL'),\n",
       " Seq('RNAGQQGNLTSYSLRV'),\n",
       " Seq('FPSIICSFCYCSRSL'),\n",
       " Seq('AGCC'),\n",
       " Seq('W'),\n",
       " Seq('F'),\n",
       " Seq('SCS'),\n",
       " Seq('KVEEVFECG'),\n",
       " Seq('I'),\n",
       " Seq('I'),\n",
       " Seq('P'),\n",
       " Seq('CSHAT'),\n",
       " Seq('VGKDG'),\n",
       " Seq('SSYDPNV'),\n",
       " Seq('TG'),\n",
       " Seq('I'),\n",
       " Seq('GQEGKSY'),\n",
       " Seq('CYADNAFHYA'),\n",
       " Seq('KVG'),\n",
       " Seq(''),\n",
       " Seq('CTQQHYQQCKRWLCSLEHNTSYNSSQTNGCHTRL'),\n",
       " Seq('HI'),\n",
       " Seq('KYV'),\n",
       " Seq('WYNIYLCISIVGNPTGCRCR'),\n",
       " Seq(''),\n",
       " Seq('NCST'),\n",
       " Seq(''),\n",
       " Seq('N'),\n",
       " Seq('YGQFT'),\n",
       " Seq('FSMASYCNSFKGQFCCQITE'),\n",
       " Seq(''),\n",
       " Seq('A'),\n",
       " Seq('SCCTTTDVLCCRYYTNCLH'),\n",
       " Seq(''),\n",
       " Seq('QCVSLLQHNKGR'),\n",
       " Seq('VCTCTVIRFTGFEMG'),\n",
       " Seq('IP'),\n",
       " Seq('E'),\n",
       " Seq('WNWYYLYRTGTTL'),\n",
       " Seq('VCYRHT'),\n",
       " Seq('RS'),\n",
       " Seq('SEVFILY'),\n",
       " Seq('RIKQPK'),\n",
       " Seq('RYGTW'),\n",
       " Seq('FSCHSTSTSW'),\n",
       " Seq('CNRSACQFNCIIFLCFCCRCC'),\n",
       " Seq('SLQRLSS'),\n",
       " Seq('WGTTNH'),\n",
       " Seq('LC'),\n",
       " Seq('DVVYTHWYWSGNNSYTGSQYGSRILWWCIVLSVLPLPHRSSKS'),\n",
       " Seq('RIL'),\n",
       " Seq('LKR'),\n",
       " Seq('VCTNTYNLC'),\n",
       " Seq(''),\n",
       " Seq('PCGFYT'),\n",
       " Seq('KHSLYRLRYVERLWL'),\n",
       " Seq('L'),\n",
       " Seq('STPRTHASVS'),\n",
       " Seq('CTIVFKRVCGVSAARLTPCGTGTSTDVVYRAFDIYNDKVAGFAKFLKTNCCRFQ...VNN'),\n",
       " Seq('TNNVCFSCFIATSL'),\n",
       " Seq('SVC'),\n",
       " Seq('SYNQNSITPCIH'),\n",
       " Seq('FFHTWCLLP'),\n",
       " Seq('QSFQILSFTFNSGLVLTFLFQCYLVPCYTCLWDQWY'),\n",
       " Seq('EV'),\n",
       " Seq(''),\n",
       " Seq('PCPTI'),\n",
       " Seq(''),\n",
       " Seq('WCLFCFH'),\n",
       " Seq('EV'),\n",
       " Seq('HNKRLDFWYYFRFEDPVPTYC'),\n",
       " Seq(''),\n",
       " Seq('RY'),\n",
       " Seq('CCY'),\n",
       " Seq('SL'),\n",
       " Seq('ISIL'),\n",
       " Seq(''),\n",
       " Seq('SIFGCLLPQKQQKLDGK'),\n",
       " Seq('VQSLF'),\n",
       " Seq('CE'),\n",
       " Seq('LHF'),\n",
       " Seq('ICLSAFSYGP'),\n",
       " Seq('RKTG'),\n",
       " Seq('FQKS'),\n",
       " Seq('GICV'),\n",
       " Seq('EY'),\n",
       " Seq('WLF'),\n",
       " Seq('NIF'),\n",
       " Seq('AHAY'),\n",
       " Seq('FSA'),\n",
       " Seq('SPSGFFGFRTIGRFANRY'),\n",
       " Seq('HH'),\n",
       " Seq('VSNFTCFT'),\n",
       " Seq('KLFDSW'),\n",
       " Seq('FFFRLDSWCCSLLCGLSST'),\n",
       " Seq('DFSIKI'),\n",
       " Seq(''),\n",
       " Seq('KWNHYRCCRLCT'),\n",
       " Seq('PSLRNKVYVEILHCRKRNLSNF'),\n",
       " Seq('L'),\n",
       " Seq('SPTNRIYC'),\n",
       " Seq('IS'),\n",
       " Seq('YYKLVPFW'),\n",
       " Seq('SF'),\n",
       " Seq('RHQICICLCLEQEENQQLCC'),\n",
       " Seq('LFCPI'),\n",
       " Seq('FRIIFHF'),\n",
       " Seq('VLWSVSY'),\n",
       " Seq('IK'),\n",
       " Seq('SLLY'),\n",
       " Seq('CLCRFICN'),\n",
       " Seq('R'),\n",
       " Seq(''),\n",
       " Seq('SQTNRSRANWKDC'),\n",
       " Seq('L'),\n",
       " Seq('L'),\n",
       " Seq('ITR'),\n",
       " Seq('FYRLRYSLEF'),\n",
       " Seq('QS'),\n",
       " Seq('F'),\n",
       " Seq('GWW'),\n",
       " Seq('L'),\n",
       " Seq('LPV'),\n",
       " Seq('IV'),\n",
       " Seq('EV'),\n",
       " Seq('SQTF'),\n",
       " Seq('ERYFN'),\n",
       " Seq('NLSGR'),\n",
       " Seq('HTL'),\n",
       " Seq('WC'),\n",
       " Seq('RF'),\n",
       " Seq('LLLSFTIIWFPTH'),\n",
       " Seq('WCWLPTIQSSSTFF'),\n",
       " Seq('TSTCTSNCLWT'),\n",
       " Seq('KVY'),\n",
       " Seq('FG'),\n",
       " Seq('KQMCQFQLQWFNRHRCSY'),\n",
       " Seq('V'),\n",
       " Seq('QKVSAFPTIWQRHC'),\n",
       " Seq('HY'),\n",
       " Seq('CCP'),\n",
       " Seq('STDT'),\n",
       " Seq('DS'),\n",
       " Seq('HYTMFFWWCQCYNTRNKYF'),\n",
       " Seq('PGCCSLSGC'),\n",
       " Seq('LHRSPCCYSCRSTYSYLACLFYRF'),\n",
       " Seq('CFSNTCRLFNRG'),\n",
       " Seq('TCQQLI'),\n",
       " Seq('V'),\n",
       " Seq('HTHWCRYMR'),\n",
       " Seq('LSDSD'),\n",
       " Seq('FSSAGT'),\n",
       " Seq('CS'),\n",
       " Seq('SIHHCLHYVTWCRKFSCLL'),\n",
       " Seq(''),\n",
       " Seq('LYCHTHKFYY'),\n",
       " Seq('CYHRNSTSVYDQDISRLYNVHLW'),\n",
       " Seq('FN'),\n",
       " Seq('MQQSFVAIWQFLYTIKPCFNWNSC'),\n",
       " Seq('TRQKHPRSFCTSQTNLQNTTN'),\n",
       " Seq('RFWWF'),\n",
       " Seq('FFTNITRSIKTKQEVIY'),\n",
       " Seq('RSTFQQSDTCRCWLHQTIW'),\n",
       " Seq('LPW'),\n",
       " Seq('YCC'),\n",
       " Seq('RPHLCTKV'),\n",
       " Seq('RPYCFATFAHR'),\n",
       " Seq('NDCSIHFCTVSGYNHFWLDLWCRCCITNTICYANGL'),\n",
       " Seq('V'),\n",
       " Seq('WYWSYTECSL'),\n",
       " Seq('EPKIDCQPI'),\n",
       " Seq(''),\n",
       " Seq('CYWQNSRLTFFHSKCTWKTSRCGQPKCTSFKHAC'),\n",
       " Seq('TT'),\n",
       " Seq('LQFWCNFKCFK'),\n",
       " Seq('YPFTS'),\n",
       " Seq('QS'),\n",
       " Seq('G'),\n",
       " Seq('SAN'),\n",
       " Seq(''),\n",
       " Seq('VDHRQTSKFADICDSTIN'),\n",
       " Seq('SCRNQSFC'),\n",
       " Seq('SCCY'),\n",
       " Seq('NVRVCTWTIKKS'),\n",
       " Seq('FLWKGLSSYVLPSVSTSWCSLLACDLCPCTRKELHNCSCHLS'),\n",
       " Seq('WKSTLSS'),\n",
       " Seq('RCLCFKWHTLVCNTKEFL'),\n",
       " Seq('TTNHYYRQHICVW'),\n",
       " Seq('L'),\n",
       " Seq('CCNRNCQQHSL'),\n",
       " Seq('SFAT'),\n",
       " Seq('IRLIQGGVR'),\n",
       " Seq('IF'),\n",
       " Seq('ESYITRC'),\n",
       " Seq('FR'),\n",
       " Seq('HLWH'),\n",
       " Seq('CFSCKHSKRN'),\n",
       " Seq('PPQ'),\n",
       " Seq('GCQEFK'),\n",
       " Seq('ISHRSPRTWKV'),\n",
       " Seq('AVYKMAMVHLARFYSWLDCHSNGDNYALLYDQLL'),\n",
       " Seq('LSQGLLFLWILLQI'),\n",
       " Seq(''),\n",
       " Seq('RRL'),\n",
       " Seq('ASAQRSQITLHINELMDLFMRIFTIGTVTLKQGEIKDATPSDFVRATATIPIQA...VPL'),\n",
       " Seq('AQADEYELMYSFVSEETGTLIVNSVLLFLAFVVFLLVTLAILTALRLCAYCCNI...LLV'),\n",
       " Seq('TN'),\n",
       " Seq('ILY'),\n",
       " Seq('FFCLEL'),\n",
       " Seq('F'),\n",
       " Seq('PWQIPTVLLPLKSLKSSLNNGT'),\n",
       " Seq(''),\n",
       " Seq(''),\n",
       " Seq('VSYSLHGFVFYNLPMPTGIGFCI'),\n",
       " Seq('LS'),\n",
       " Seq('FSSGCYGQ'),\n",
       " Seq('L'),\n",
       " Seq('LVLCLLLFTE'),\n",
       " Seq('IGSPVELLSQWLVL'),\n",
       " Seq('A'),\n",
       " Seq('CGSATSLLLSDCLRVRVPCGHSIQKLTFFSTCHSMALF'),\n",
       " Seq('PDRF'),\n",
       " Seq('KVNS'),\n",
       " Seq('SEL'),\n",
       " Seq('SFVDIFVLLDTI'),\n",
       " Seq('DAVTSRTCLKKSLLLHHERFLITNWELRSV'),\n",
       " Seq('QVTQVLLHTVATGLATIN'),\n",
       " Seq('TQTIPVAVTILLCLYSK'),\n",
       " Seq('QQMFHLVDFQVTIAEILLIIMRTFKVSIWNLDYIINLIIKNLSKSLTENKYSQL...EID'),\n",
       " Seq('TNMKIILFLALITLATCELYHYQECVRGTTVLLKEPCSSGTYEGNSPFHPLADN...KTE'),\n",
       " Seq('LNFH'),\n",
       " Seq('LTSICAF'),\n",
       " Seq('PFCYSLF'),\n",
       " Seq('LCLLSFGSHLNCKIIMKLVTPKRT'),\n",
       " Seq('NFLFS'),\n",
       " Seq('ESSQL'),\n",
       " Seq('LHFTKNVVYSHVLNINHM'),\n",
       " Seq('LMTRVLFTSILNGILE'),\n",
       " Seq('ELENQHL'),\n",
       " Seq('LNCAWMRLVLNHPFSTSISVIIQFPVYLLQLIARNLNWVVL'),\n",
       " Seq('CVVRSMKTF'),\n",
       " Seq('SIMTFVLF'),\n",
       " Seq('ISSKRTN'),\n",
       " Seq('NV'),\n",
       " Seq(''),\n",
       " Seq('WTPKSAKCTPHYVWWTLRFNWQ'),\n",
       " Seq('PEWRTQWGAIKTTSAPRFTQ'),\n",
       " Seq('YCVLVHRSHSTWQGRP'),\n",
       " Seq('IPSRTRRSN'),\n",
       " Seq('HQ'),\n",
       " Seq('QSR'),\n",
       " Seq('PNWLLPKSYQTNSWW'),\n",
       " Seq('R'),\n",
       " Seq('NERSQSKMVFLLPRNWARSWTSLWC'),\n",
       " Seq('QRRHHMGCN'),\n",
       " Seq('GSLEYTKRSHWHPQSC'),\n",
       " Seq('QCCNRATTSSRNNIAKRLLRRREQRRQSSLFSFLIT'),\n",
       " Seq('SQQFKKFNSRQQ'),\n",
       " Seq('GNFSC'),\n",
       " Seq('NGWQWR'),\n",
       " Seq('CCSCFAAA'),\n",
       " Seq('QIEPA'),\n",
       " Seq('EQNVW'),\n",
       " Seq('RPTTTRPNCH'),\n",
       " Seq('EICC'),\n",
       " Seq('GF'),\n",
       " Seq('EASAKTYCH'),\n",
       " Seq('SIQCNTSFRQTWSRTNPRKFWGPGTNQTRN'),\n",
       " Seq('LQTLAANCTICPQRFSVLRNVAHWHGSHTFGNVVDLHRCHQIG'),\n",
       " Seq('QRSKFQRSSHFAE'),\n",
       " Seq('AY'),\n",
       " Seq('RIQNIPTNRA'),\n",
       " Seq('KGQKEEG'),\n",
       " Seq(''),\n",
       " Seq('NSSLTAETEETANCDSSSCCRFG'),\n",
       " Seq('FLQTIATIHEQC'),\n",
       " Seq('LNSGLNSCRPHKADGLYKRFRFSVYDI'),\n",
       " Seq('STLVQNEFS'),\n",
       " Seq('LHSTSRCS'),\n",
       " Seq('L'),\n",
       " Seq('SHIAIFNQCVTLGRT'),\n",
       " Seq('KSHHIFTEATRSTIECTVNNARESCLYGRALMCKINFSSAIPM'),\n",
       " Seq('F'),\n",
       " Seq(''),\n",
       " Seq('LLRRMTKKKKKKKKKK')]"
      ]
     },
     "execution_count": 42,
     "metadata": {},
     "output_type": "execute_result"
    }
   ],
   "source": [
    "ncov_aa"
   ]
  },
  {
   "cell_type": "code",
   "execution_count": 43,
   "id": "1d37a61e",
   "metadata": {},
   "outputs": [],
   "source": [
    "ncov_clean = [ i for i in ncov_aa]"
   ]
  },
  {
   "cell_type": "code",
   "execution_count": 44,
   "id": "768c4e89",
   "metadata": {},
   "outputs": [
    {
     "data": {
      "text/plain": [
       "[Seq('IKGLYLPR'),\n",
       " Seq('QTNQLSISCRSVL'),\n",
       " Seq('TNFKICVAVTRLHA'),\n",
       " Seq('CTHAV'),\n",
       " Seq('LITNYCR'),\n",
       " Seq('QDTSNSSIFCRLLTVSSVLQPIISTSRFRPGVTER'),\n",
       " Seq('DGEPCPWFQRENTRPTQFACFTGSRRARTWLWRLRGGGLIRGTSTS'),\n",
       " Seq('RWHLWLSRS'),\n",
       " Seq('KRRFAST'),\n",
       " Seq('TALCVHQTFGCSNCTSWSCYG'),\n",
       " Seq('AGSRTRRHSVRS'),\n",
       " Seq('W'),\n",
       " Seq('DTWCPCPSCGRNTSGLPQGSSS'),\n",
       " Seq('ER'),\n",
       " Seq(''),\n",
       " Seq('RSWWP'),\n",
       " Seq('LRRRSKVI'),\n",
       " Seq('LRRRAWH'),\n",
       " Seq('SL'),\n",
       " Seq('RFSRKLEH'),\n",
       " Seq('T'),\n",
       " Seq('QWCYP'),\n",
       " Seq('THA'),\n",
       " Seq('A'),\n",
       " Seq('RRGIHSLCR'),\n",
       " Seq('QLLWP'),\n",
       " Seq('WLPS'),\n",
       " Seq('VH'),\n",
       " Seq('RPSSTCW'),\n",
       " Seq('SFMHFVRTTGLY'),\n",
       " Seq('H'),\n",
       " Seq('EGCILLP'),\n",
       " Seq('T'),\n",
       " Seq('A'),\n",
       " Seq('NCLVHGTF'),\n",
       " Seq('KEL'),\n",
       " Seq('IADTF'),\n",
       " Seq('N'),\n",
       " Seq('IGKEI'),\n",
       " Seq('HLQWGMSKFCISLKFHNQDYSTKG'),\n",
       " Seq('KEKA'),\n",
       " Seq('WLYG'),\n",
       " Seq('NSICLSSCVTK'),\n",
       " Seq('MQPNVPFNSHEV'),\n",
       " Seq('SLW'),\n",
       " Seq('NFMADGRFC'),\n",
       " Seq('SHLRILWH'),\n",
       " Seq('EFD'),\n",
       " Seq('RRCHYLWLLTPKCCC'),\n",
       " Seq('NLLSSMSQFRSRT'),\n",
       " Seq('A'),\n",
       " Seq('SCRIP'),\n",
       " Seq(''),\n",
       " Seq('IWLENHSS'),\n",
       " Seq('GWSHYCLWRLCVLLCWLP'),\n",
       " Seq('QVCLLGSTC'),\n",
       " Seq('R'),\n",
       " Seq('HRL'),\n",
       " Seq('PYRCCWRRFRRS'),\n",
       " Seq(''),\n",
       " Seq('QPS'),\n",
       " Seq('NTPKRESQHQYCW'),\n",
       " Seq('L'),\n",
       " Seq('T'),\n",
       " Seq(''),\n",
       " Seq('RDRHYFGIFFCFHKCFCGNCERFGL'),\n",
       " Seq('SIQTNC'),\n",
       " Seq('ILW'),\n",
       " Seq('F'),\n",
       " Seq('SYKRKS'),\n",
       " Seq('KRCLEYW'),\n",
       " Seq('TEINTESSLCICIRGCSCCTINFLPHS'),\n",
       " Seq('NCSKFCACFTEGRYNNTRWNFTVFTETH'),\n",
       " Seq('CYDVHI'),\n",
       " Seq('FGY'),\n",
       " Seq('QSSCNGLHYRWCCSVDFAVAN'),\n",
       " Seq('HLWHCL'),\n",
       " Seq('KTQTRP'),\n",
       " Seq('LA'),\n",
       " Seq('REV'),\n",
       " Seq('GRCRVS'),\n",
       " Seq('RRLGNC'),\n",
       " Seq('IYLNLCL'),\n",
       " Seq('NCRWTNCHLCKGN'),\n",
       " Seq('GECSDIL'),\n",
       " Seq('ACK'),\n",
       " Seq('IFGFVC'),\n",
       " Seq('LYHYWWS'),\n",
       " Seq('T'),\n",
       " Seq('SLEFR'),\n",
       " Seq('NICHALKGIVQKVC'),\n",
       " Seq('IQRRNWPTHASKSPKRNYLLRGRNTSHRSVNRGSCLENW'),\n",
       " Seq('FTTIRTTY'),\n",
       " Seq(''),\n",
       " Seq('SC'),\n",
       " Seq('SSIGWYTSLY'),\n",
       " Seq('RAYVARNQRHRKVLCPCT'),\n",
       " Seq('YDGNKQYLHTQRRCTNKGYFW'),\n",
       " Seq(''),\n",
       " Seq('HCDRSARLQECEYHF'),\n",
       " Seq('T'),\n",
       " Seq(''),\n",
       " Seq('KD'),\n",
       " Seq(''),\n",
       " Seq('ST'),\n",
       " Seq(''),\n",
       " Seq('EVLCLYS'),\n",
       " Seq('TRYRSK'),\n",
       " Seq('VRLCCGRCCHKNFATSI'),\n",
       " Seq('ITYTTGH'),\n",
       " Seq('FR'),\n",
       " Seq('VEYGYILLI'),\n",
       " Seq(''),\n",
       " Seq('VW'),\n",
       " Seq('V'),\n",
       " Seq('IGFTYVLFFLPSR'),\n",
       " Seq('G'),\n",
       " Seq('RRR'),\n",
       " Seq('L'),\n",
       " Seq('RRRV'),\n",
       " Seq('AINSI'),\n",
       " Seq('VWY'),\n",
       " Seq('R'),\n",
       " Seq('LPR'),\n",
       " Seq('TFGIWCHFCCSST'),\n",
       " Seq('RRARRRLVR'),\n",
       " Seq(''),\n",
       " Seq(''),\n",
       " Seq('STNCWSTRRQ'),\n",
       " Seq('GQSDNYYSNNC'),\n",
       " Seq('GSTSIRDGTYTSCSDY'),\n",
       " Seq('SE'),\n",
       " Seq('F'),\n",
       " Seq('WLFKTY'),\n",
       " Seq('QCIH'),\n",
       " Seq('KCRHCGRS'),\n",
       " Seq('KGKTNSGC'),\n",
       " Seq('CSQCLP'),\n",
       " Seq('TWRRCCRSLK'),\n",
       " Seq('GY'),\n",
       " Seq('QCHAS'),\n",
       " Seq('I'),\n",
       " Seq(''),\n",
       " Seq('LHSY'),\n",
       " Seq('WTT'),\n",
       " Seq('SGW'),\n",
       " Seq('LCFKRTQSC'),\n",
       " Seq('TLSSCCRPKC'),\n",
       " Seq('QR'),\n",
       " Seq('RHSTS'),\n",
       " Seq('ECL'),\n",
       " Seq('KF'),\n",
       " Seq('SARSSTCTIIISWYFWC'),\n",
       " Seq('PYTFFKSLCRYCSHKCLLSCL'),\n",
       " Seq(''),\n",
       " Seq('KSL'),\n",
       " Seq('QTCFKLFGNEE'),\n",
       " Seq('KAS'),\n",
       " Seq('TKDR'),\n",
       " Seq('DS'),\n",
       " Seq('RGS'),\n",
       " Seq('AIYN'),\n",
       " Seq('K'),\n",
       " Seq('TFS'),\n",
       " Seq('TEKTR'),\n",
       " Seq(''),\n",
       " Seq('ENQSLC'),\n",
       " Seq('RSYNNSGRN'),\n",
       " Seq('VPHRKLVTLY'),\n",
       " Seq('H'),\n",
       " Seq('WQSSSRFCHSC'),\n",
       " Seq(''),\n",
       " Seq('H'),\n",
       " Seq('HHFLKERCSIYSG'),\n",
       " Seq('CCSRGCFNCCGYTY'),\n",
       " Seq('KGWWHY'),\n",
       " Seq('NASESFEKSANRQLYNHLPGSGFKWLHCRGGKDSA'),\n",
       " Seq('KV'),\n",
       " Seq('KCLLHSTIYYL'),\n",
       " Seq(''),\n",
       " Seq('EARNSWNCFLEFARNACTCRRNTQINACLCGN'),\n",
       " Seq('SHSFNYTA'),\n",
       " Seq('I'),\n",
       " Seq('GY'),\n",
       " Seq('NTRGCG'),\n",
       " Seq('LWC'),\n",
       " Seq('ILLLHQ'),\n",
       " Seq('NNCSVTYQHT'),\n",
       " Seq('RSK'),\n",
       " Seq('NSCYNATWLCNTWLKFGRSCSVYEISQSASYSFCFFT'),\n",
       " Seq('CCYSV'),\n",
       " Seq('WLSYFFF'),\n",
       " Seq('NT'),\n",
       " Seq('RTFY'),\n",
       " Seq('NHLTCWFL'),\n",
       " Seq('RLVLFWTIYTTRYRIS'),\n",
       " Seq('ER'),\n",
       " Seq(''),\n",
       " Seq('KCILH'),\n",
       " Seq(''),\n",
       " Seq('SYHIPPRW'),\n",
       " Seq('SYHL'),\n",
       " Seq('QS'),\n",
       " Seq('DTSFFERSEDY'),\n",
       " Seq('GVYNSRQH'),\n",
       " Seq('PPHASCGHVNDIWTTVWSNLFGWS'),\n",
       " Seq('CY'),\n",
       " Seq('NKTS'),\n",
       " Seq('FT'),\n",
       " Seq('R'),\n",
       " Seq('NILCFT'),\n",
       " Seq(''),\n",
       " Seq(''),\n",
       " Seq('HSTC'),\n",
       " Seq('GF'),\n",
       " Seq('VLPHN'),\n",
       " Seq('S'),\n",
       " Seq('FSG'),\n",
       " Seq('VHVSIKSH'),\n",
       " Seq('KVEIPTS'),\n",
       " Seq('WFNFY'),\n",
       " Seq('MGR'),\n",
       " Seq('QLLSCHCIVNTPTNRVEV'),\n",
       " Seq('STCSTRCLLQSKGW'),\n",
       " Seq('SC'),\n",
       " Seq('LLCTYLSLL'),\n",
       " Seq(''),\n",
       " Seq('DSR'),\n",
       " Seq('VR'),\n",
       " Seq('C'),\n",
       " Seq('RNNELLVSTCQFRFLQKSLERGV'),\n",
       " Seq('NLWTTADNP'),\n",
       " Seq('GCRSCYVHGHTFL'),\n",
       " Seq('TI'),\n",
       " Seq('ERCSDTLYVW'),\n",
       " Seq('TSYKISSTTGVTFCYDVSTTCSV'),\n",
       " Seq('T'),\n",
       " Seq('AWYIYLC'),\n",
       " Seq(''),\n",
       " Seq('VHW'),\n",
       " Seq('LPVWSL'),\n",
       " Seq('TYNF'),\n",
       " Seq('RNFVLHRRCFTYKVLRIQRSYYGCFLQRKQLHNNHKTSYL'),\n",
       " Seq('IGWCCLYRN'),\n",
       " Seq('P'),\n",
       " Seq('VGQLL'),\n",
       " Seq('ERQFLFHRATN'),\n",
       " Seq('SCTKPTISKRKLR'),\n",
       " Seq('F'),\n",
       " Seq('VCM'),\n",
       " Seq(''),\n",
       " Seq('YQIC'),\n",
       " Seq(''),\n",
       " Seq('FKPVNWL'),\n",
       " Seq('ETCFKRA'),\n",
       " Seq('SYIFP'),\n",
       " Seq('LKW'),\n",
       " Seq('CGGY'),\n",
       " Seq('L'),\n",
       " Seq('TLHTLF'),\n",
       " Seq('ERS'),\n",
       " Seq('IVT'),\n",
       " Seq('TYCLAC'),\n",
       " Seq('QCN'),\n",
       " Seq(''),\n",
       " Seq('SHV'),\n",
       " Seq('TKYLVYTLSLEHKTS'),\n",
       " Seq('NIKFV'),\n",
       " Seq('CTEVRGRAGNG'),\n",
       " Seq('SCLRRSKTSL'),\n",
       " Seq('RSSGKSYHTERRS'),\n",
       " Seq('V'),\n",
       " Seq('CENYRSCRRHYT'),\n",
       " Seq('TSK'),\n",
       " Seq(''),\n",
       " Seq('FKNYRRGWPHRSNGCLCRQF'),\n",
       " Seq('SYY'),\n",
       " Seq('ET'),\n",
       " Seq(''),\n",
       " Seq('II'),\n",
       " Seq('SIRFENPCYSWFSCC'),\n",
       " Seq(''),\n",
       " Seq('CPLGYYS'),\n",
       " Seq('LC'),\n",
       " Seq('AFS'),\n",
       " Seq('QSC'),\n",
       " Seq('YNY'),\n",
       " Seq('HSYTVFKPCLY'),\n",
       " Seq('LYALFLYFIATIVYFY'),\n",
       " Seq('KYKF'),\n",
       " Seq('N'),\n",
       " Seq('SIYADYYSKEYC'),\n",
       " Seq('ECR'),\n",
       " Seq('ILSRGFI'),\n",
       " Seq('LFEVT'),\n",
       " Seq('FF'),\n",
       " Seq('TDKYYNLVFTIKCLPRFFNLLNRCFRCFNV'),\n",
       " Seq('FRHAFLLYWLQRRLFELY'),\n",
       " Seq('CHYCNLLYWFYTL'),\n",
       " Seq('CLS'),\n",
       " Seq('WFRFFRHLSFFRNYTNYHFIF'),\n",
       " Seq('MGFNCFWLSCRVVFGIYSFH'),\n",
       " Seq('VFLCTWIGCNHAIVFQLFCSTFY'),\n",
       " Seq(''),\n",
       " Seq('FLAYVVNN'),\n",
       " Seq('SCTNGPDFSYG'),\n",
       " Seq('NVHLLCIILLCMEKLCACCRRL'),\n",
       " Seq('FINLYDVLQT'),\n",
       " Seq(''),\n",
       " Seq('SNKSRMYNYC'),\n",
       " Seq('WC'),\n",
       " Seq('KVLLCLC'),\n",
       " Seq('WR'),\n",
       " Seq('RLLQTTQLELC'),\n",
       " Seq('L'),\n",
       " Seq('YILCW'),\n",
       " Seq('YIY'),\n",
       " Seq(''),\n",
       " Seq(''),\n",
       " Seq('SCERLVTTV'),\n",
       " Seq('KTNKSY'),\n",
       " Seq('PVFLHR'),\n",
       " Seq(''),\n",
       " Seq('CYSEEWFHPSLL'),\n",
       " Seq(''),\n",
       " Seq('SWSKDL'),\n",
       " Seq('KTFSLSFC'),\n",
       " Seq('LRQPES'),\n",
       " Seq(''),\n",
       " Seq('H'),\n",
       " Seq('RFIAY'),\n",
       " Seq('CYSF'),\n",
       " Seq('W'),\n",
       " Seq('IKM'),\n",
       " Seq('RIICKISVCLLQSAYVSTYTVTRSGISV'),\n",
       " Seq('CW'),\n",
       " Seq(''),\n",
       " Seq('CGSCS'),\n",
       " Seq('NV'),\n",
       " Seq('CLR'),\n",
       " Seq('YVFINF'),\n",
       " Seq('RTNGKTQNTSCNCRS'),\n",
       " Seq('TCKECVLRQCLIYFYFSSSARVC'),\n",
       " Seq('FRCRN'),\n",
       " Seq('RCC'),\n",
       " Seq('MS'),\n",
       " Seq('IVTSI'),\n",
       " Seq('HRSYWR'),\n",
       " Seq('L'),\n",
       " Seq(''),\n",
       " Seq('LYAHL'),\n",
       " Seq('QS'),\n",
       " Seq('KHDTP'),\n",
       " Seq('PWCLY'),\n",
       " Seq('L'),\n",
       " Seq('CASY'),\n",
       " Seq('CAGSKKSQHCFDMER'),\n",
       " Seq('RFHVIV'),\n",
       " Seq('TTTKTNT'),\n",
       " Seq('CC'),\n",
       " Seq('KE'),\n",
       " Seq('LTF'),\n",
       " Seq('VDMCNY'),\n",
       " Seq('TSC'),\n",
       " Seq('CCNNKDST'),\n",
       " Seq('GW'),\n",
       " Seq('NC'),\n",
       " Seq(''),\n",
       " Seq('LVEAVN'),\n",
       " Seq('SYTCVPFCCCYFLFNNTCSCHV'),\n",
       " Seq('TY'),\n",
       " Seq('LFK'),\n",
       " Seq('NHRIQGY'),\n",
       " Seq('WWCHS'),\n",
       " Seq('HSIYRYLFC'),\n",
       " Seq('QTC'),\n",
       " Seq('F'),\n",
       " Seq('HMV'),\n",
       " Seq('PAWW'),\n",
       " Seq('LY'),\n",
       " Seq(''),\n",
       " Seq('QSLPIDCCSHNKRSGFCRAWFAWHDITHN'),\n",
       " Seq('W'),\n",
       " Seq('LFAFLT'),\n",
       " Seq('SF'),\n",
       " Seq('CSW'),\n",
       " Seq('HLLHTIKTYRVH'),\n",
       " Seq('LCNISLCFGC'),\n",
       " Seq('MYNF'),\n",
       " Seq('RCFW'),\n",
       " Seq('ASTILL'),\n",
       " Seq('YQCTRRFCCL'),\n",
       " Seq('KFTP'),\n",
       " Seq('HTLCAHGWLYYSIS'),\n",
       " Seq('HLP'),\n",
       " Seq('RFC'),\n",
       " Seq('SGNNF'),\n",
       " Seq('F'),\n",
       " Seq('VL'),\n",
       " Seq('ARHL'),\n",
       " Seq('KIRSWCLCIY'),\n",
       " Seq('W'),\n",
       " Seq('MGT'),\n",
       " Seq('Q'),\n",
       " Seq('LLQIFTRSFLWCRCCKFTY'),\n",
       " Seq('YVYTTNSTYWCFGHISIYSSWWYCSYRSNMPCLLFYEV'),\n",
       " Seq('KSFW'),\n",
       " Seq('IQSCSCL'),\n",
       " Seq('YFTIPYVIHCTLFNTSLLILTWCLFCYLLVLDILSY'),\n",
       " Seq(''),\n",
       " Seq('CFFFSTYSVDGYVHTFSTFLDNNCLYHLYFHKAFLLVL'),\n",
       " Seq(''),\n",
       " Seq('LPKETCSL'),\n",
       " Seq('WCFL'),\n",
       " Seq('YF'),\n",
       " Seq('RSCAVHLFVK'),\n",
       " Seq('RNVSKVA'),\n",
       " Seq(''),\n",
       " Seq('CAITSYAI'),\n",
       " Seq(''),\n",
       " Seq('ILSSL'),\n",
       " Seq(''),\n",
       " Seq('VQVF'),\n",
       " Seq('WSNGYN'),\n",
       " Seq('LQRSCLLSSRKGSQ'),\n",
       " Seq('LQ'),\n",
       " Seq('LRF'),\n",
       " Seq('CSLPTTTNLYHLSCFAEWF'),\n",
       " Seq('KNGIPIW'),\n",
       " Seq('S'),\n",
       " Seq('GLYGTSNLWYNYT'),\n",
       " Seq('RSLA'),\n",
       " Seq(''),\n",
       " Seq('RSLLSKTCDLHL'),\n",
       " Seq('RHA'),\n",
       " Seq('P'),\n",
       " Seq('L'),\n",
       " Seq('RFTHS'),\n",
       " Seq('V'),\n",
       " Seq('S'),\n",
       " Seq('FLGTGW'),\n",
       " Seq('CSTQGYWTFYAKLCT'),\n",
       " Seq('A'),\n",
       " Seq('G'),\n",
       " Seq('YSQS'),\n",
       " Seq('DT'),\n",
       " Seq('V'),\n",
       " Seq('VCSHSTRTDFFSVSLLQWFTIWCLPMCYEAQFHY'),\n",
       " Seq('GFIP'),\n",
       " Seq('WFMW'),\n",
       " Seq('CWF'),\n",
       " Seq('HRL'),\n",
       " Seq('LCLFLLHAPYGITNWSSCWHRLRR'),\n",
       " Seq('LLWTFC'),\n",
       " Seq('QANSTSSWYGHNYYS'),\n",
       " Seq('CFSLVVRCCYKWRQVVSQSIYHNS'),\n",
       " Seq(''),\n",
       " Seq('L'),\n",
       " Seq('PCGYEVQL'),\n",
       " Seq('TSNTRPC'),\n",
       " Seq('HTRTSFCSNWNCRFRYVCFIKRITAKWYEWTYHIG'),\n",
       " Seq('CFIRR'),\n",
       " Seq('IYTF'),\n",
       " Seq('CC'),\n",
       " Seq('TMLRCYFPKCSEKNNQGYTPLVVTHNFDFTFSFSPEYSMVFVLFFV'),\n",
       " Seq('KCLFTFCYGYYCYVCFCNDVCQT'),\n",
       " Seq('ACISLFVFVTFSCHCSLF'),\n",
       " Seq('YGLYAC'),\n",
       " Seq('LGDAYYDMVGYG'),\n",
       " Seq('Y'),\n",
       " Seq('FVWF'),\n",
       " Seq('AKRLCYVCISCSVTNPYDSKNCV'),\n",
       " Seq(''),\n",
       " Seq('WC'),\n",
       " Seq('ESVDTYECLDTRL'),\n",
       " Seq('SLLW'),\n",
       " Seq('CFRSSHFHVGSYNLCYF'),\n",
       " Seq('LLRCSYNCHVFGQRYCFYVC'),\n",
       " Seq('VLPYFLHNW'),\n",
       " Seq('YTSVYNASLLFLRLFLYLLLWPLLFTQPLL'),\n",
       " Seq('TDSWCL'),\n",
       " Seq('LLSFYTGV'),\n",
       " Seq('IYEFTGTTPTQE'),\n",
       " Seq('HRCLQTQH'),\n",
       " Seq('IVGCWWQTLYQSSHCTV'),\n",
       " Seq('NVRCKVHISSLTLSFATTQSRIII'),\n",
       " Seq('IVGSMCPVTQ'),\n",
       " Seq('HSLS'),\n",
       " Seq('RYY'),\n",
       " Seq('SL'),\n",
       " Seq('KNGFTTFCFAFHAGCCRHKQAL'),\n",
       " Seq('RNAGQQGNLTSYSLRV'),\n",
       " Seq('FPSIICSFCYCSRSL'),\n",
       " Seq('AGCC'),\n",
       " Seq('W'),\n",
       " Seq('F'),\n",
       " Seq('SCS'),\n",
       " Seq('KVEEVFECG'),\n",
       " Seq('I'),\n",
       " Seq('I'),\n",
       " Seq('P'),\n",
       " Seq('CSHAT'),\n",
       " Seq('VGKDG'),\n",
       " Seq('SSYDPNV'),\n",
       " Seq('TG'),\n",
       " Seq('I'),\n",
       " Seq('GQEGKSY'),\n",
       " Seq('CYADNAFHYA'),\n",
       " Seq('KVG'),\n",
       " Seq(''),\n",
       " Seq('CTQQHYQQCKRWLCSLEHNTSYNSSQTNGCHTRL'),\n",
       " Seq('HI'),\n",
       " Seq('KYV'),\n",
       " Seq('WYNIYLCISIVGNPTGCRCR'),\n",
       " Seq(''),\n",
       " Seq('NCST'),\n",
       " Seq(''),\n",
       " Seq('N'),\n",
       " Seq('YGQFT'),\n",
       " Seq('FSMASYCNSFKGQFCCQITE'),\n",
       " Seq(''),\n",
       " Seq('A'),\n",
       " Seq('SCCTTTDVLCCRYYTNCLH'),\n",
       " Seq(''),\n",
       " Seq('QCVSLLQHNKGR'),\n",
       " Seq('VCTCTVIRFTGFEMG'),\n",
       " Seq('IP'),\n",
       " Seq('E'),\n",
       " Seq('WNWYYLYRTGTTL'),\n",
       " Seq('VCYRHT'),\n",
       " Seq('RS'),\n",
       " Seq('SEVFILY'),\n",
       " Seq('RIKQPK'),\n",
       " Seq('RYGTW'),\n",
       " Seq('FSCHSTSTSW'),\n",
       " Seq('CNRSACQFNCIIFLCFCCRCC'),\n",
       " Seq('SLQRLSS'),\n",
       " Seq('WGTTNH'),\n",
       " Seq('LC'),\n",
       " Seq('DVVYTHWYWSGNNSYTGSQYGSRILWWCIVLSVLPLPHRSSKS'),\n",
       " Seq('RIL'),\n",
       " Seq('LKR'),\n",
       " Seq('VCTNTYNLC'),\n",
       " Seq(''),\n",
       " Seq('PCGFYT'),\n",
       " Seq('KHSLYRLRYVERLWL'),\n",
       " Seq('L'),\n",
       " Seq('STPRTHASVS'),\n",
       " Seq('CTIVFKRVCGVSAARLTPCGTGTSTDVVYRAFDIYNDKVAGFAKFLKTNCCRFQ...VNN'),\n",
       " Seq('TNNVCFSCFIATSL'),\n",
       " Seq('SVC'),\n",
       " Seq('SYNQNSITPCIH'),\n",
       " Seq('FFHTWCLLP'),\n",
       " Seq('QSFQILSFTFNSGLVLTFLFQCYLVPCYTCLWDQWY'),\n",
       " Seq('EV'),\n",
       " Seq(''),\n",
       " Seq('PCPTI'),\n",
       " Seq(''),\n",
       " Seq('WCLFCFH'),\n",
       " Seq('EV'),\n",
       " Seq('HNKRLDFWYYFRFEDPVPTYC'),\n",
       " Seq(''),\n",
       " Seq('RY'),\n",
       " Seq('CCY'),\n",
       " Seq('SL'),\n",
       " Seq('ISIL'),\n",
       " Seq(''),\n",
       " Seq('SIFGCLLPQKQQKLDGK'),\n",
       " Seq('VQSLF'),\n",
       " Seq('CE'),\n",
       " Seq('LHF'),\n",
       " Seq('ICLSAFSYGP'),\n",
       " Seq('RKTG'),\n",
       " Seq('FQKS'),\n",
       " Seq('GICV'),\n",
       " Seq('EY'),\n",
       " Seq('WLF'),\n",
       " Seq('NIF'),\n",
       " Seq('AHAY'),\n",
       " Seq('FSA'),\n",
       " Seq('SPSGFFGFRTIGRFANRY'),\n",
       " Seq('HH'),\n",
       " Seq('VSNFTCFT'),\n",
       " Seq('KLFDSW'),\n",
       " Seq('FFFRLDSWCCSLLCGLSST'),\n",
       " Seq('DFSIKI'),\n",
       " Seq(''),\n",
       " Seq('KWNHYRCCRLCT'),\n",
       " Seq('PSLRNKVYVEILHCRKRNLSNF'),\n",
       " Seq('L'),\n",
       " Seq('SPTNRIYC'),\n",
       " Seq('IS'),\n",
       " Seq('YYKLVPFW'),\n",
       " Seq('SF'),\n",
       " Seq('RHQICICLCLEQEENQQLCC'),\n",
       " Seq('LFCPI'),\n",
       " Seq('FRIIFHF'),\n",
       " Seq('VLWSVSY'),\n",
       " Seq('IK'),\n",
       " Seq('SLLY'),\n",
       " Seq('CLCRFICN'),\n",
       " Seq('R'),\n",
       " Seq(''),\n",
       " Seq('SQTNRSRANWKDC'),\n",
       " Seq('L'),\n",
       " Seq('L'),\n",
       " Seq('ITR'),\n",
       " Seq('FYRLRYSLEF'),\n",
       " Seq('QS'),\n",
       " Seq('F'),\n",
       " Seq('GWW'),\n",
       " Seq('L'),\n",
       " Seq('LPV'),\n",
       " Seq('IV'),\n",
       " Seq('EV'),\n",
       " Seq('SQTF'),\n",
       " Seq('ERYFN'),\n",
       " Seq('NLSGR'),\n",
       " Seq('HTL'),\n",
       " Seq('WC'),\n",
       " Seq('RF'),\n",
       " Seq('LLLSFTIIWFPTH'),\n",
       " Seq('WCWLPTIQSSSTFF'),\n",
       " Seq('TSTCTSNCLWT'),\n",
       " Seq('KVY'),\n",
       " Seq('FG'),\n",
       " Seq('KQMCQFQLQWFNRHRCSY'),\n",
       " Seq('V'),\n",
       " Seq('QKVSAFPTIWQRHC'),\n",
       " Seq('HY'),\n",
       " Seq('CCP'),\n",
       " Seq('STDT'),\n",
       " Seq('DS'),\n",
       " Seq('HYTMFFWWCQCYNTRNKYF'),\n",
       " Seq('PGCCSLSGC'),\n",
       " Seq('LHRSPCCYSCRSTYSYLACLFYRF'),\n",
       " Seq('CFSNTCRLFNRG'),\n",
       " Seq('TCQQLI'),\n",
       " Seq('V'),\n",
       " Seq('HTHWCRYMR'),\n",
       " Seq('LSDSD'),\n",
       " Seq('FSSAGT'),\n",
       " Seq('CS'),\n",
       " Seq('SIHHCLHYVTWCRKFSCLL'),\n",
       " Seq(''),\n",
       " Seq('LYCHTHKFYY'),\n",
       " Seq('CYHRNSTSVYDQDISRLYNVHLW'),\n",
       " Seq('FN'),\n",
       " Seq('MQQSFVAIWQFLYTIKPCFNWNSC'),\n",
       " Seq('TRQKHPRSFCTSQTNLQNTTN'),\n",
       " Seq('RFWWF'),\n",
       " Seq('FFTNITRSIKTKQEVIY'),\n",
       " Seq('RSTFQQSDTCRCWLHQTIW'),\n",
       " Seq('LPW'),\n",
       " Seq('YCC'),\n",
       " Seq('RPHLCTKV'),\n",
       " Seq('RPYCFATFAHR'),\n",
       " Seq('NDCSIHFCTVSGYNHFWLDLWCRCCITNTICYANGL'),\n",
       " Seq('V'),\n",
       " Seq('WYWSYTECSL'),\n",
       " Seq('EPKIDCQPI'),\n",
       " Seq(''),\n",
       " Seq('CYWQNSRLTFFHSKCTWKTSRCGQPKCTSFKHAC'),\n",
       " Seq('TT'),\n",
       " Seq('LQFWCNFKCFK'),\n",
       " Seq('YPFTS'),\n",
       " Seq('QS'),\n",
       " Seq('G'),\n",
       " Seq('SAN'),\n",
       " Seq(''),\n",
       " Seq('VDHRQTSKFADICDSTIN'),\n",
       " Seq('SCRNQSFC'),\n",
       " Seq('SCCY'),\n",
       " Seq('NVRVCTWTIKKS'),\n",
       " Seq('FLWKGLSSYVLPSVSTSWCSLLACDLCPCTRKELHNCSCHLS'),\n",
       " Seq('WKSTLSS'),\n",
       " Seq('RCLCFKWHTLVCNTKEFL'),\n",
       " Seq('TTNHYYRQHICVW'),\n",
       " Seq('L'),\n",
       " Seq('CCNRNCQQHSL'),\n",
       " Seq('SFAT'),\n",
       " Seq('IRLIQGGVR'),\n",
       " Seq('IF'),\n",
       " Seq('ESYITRC'),\n",
       " Seq('FR'),\n",
       " Seq('HLWH'),\n",
       " Seq('CFSCKHSKRN'),\n",
       " Seq('PPQ'),\n",
       " Seq('GCQEFK'),\n",
       " Seq('ISHRSPRTWKV'),\n",
       " Seq('AVYKMAMVHLARFYSWLDCHSNGDNYALLYDQLL'),\n",
       " Seq('LSQGLLFLWILLQI'),\n",
       " Seq(''),\n",
       " Seq('RRL'),\n",
       " Seq('ASAQRSQITLHINELMDLFMRIFTIGTVTLKQGEIKDATPSDFVRATATIPIQA...VPL'),\n",
       " Seq('AQADEYELMYSFVSEETGTLIVNSVLLFLAFVVFLLVTLAILTALRLCAYCCNI...LLV'),\n",
       " Seq('TN'),\n",
       " Seq('ILY'),\n",
       " Seq('FFCLEL'),\n",
       " Seq('F'),\n",
       " Seq('PWQIPTVLLPLKSLKSSLNNGT'),\n",
       " Seq(''),\n",
       " Seq(''),\n",
       " Seq('VSYSLHGFVFYNLPMPTGIGFCI'),\n",
       " Seq('LS'),\n",
       " Seq('FSSGCYGQ'),\n",
       " Seq('L'),\n",
       " Seq('LVLCLLLFTE'),\n",
       " Seq('IGSPVELLSQWLVL'),\n",
       " Seq('A'),\n",
       " Seq('CGSATSLLLSDCLRVRVPCGHSIQKLTFFSTCHSMALF'),\n",
       " Seq('PDRF'),\n",
       " Seq('KVNS'),\n",
       " Seq('SEL'),\n",
       " Seq('SFVDIFVLLDTI'),\n",
       " Seq('DAVTSRTCLKKSLLLHHERFLITNWELRSV'),\n",
       " Seq('QVTQVLLHTVATGLATIN'),\n",
       " Seq('TQTIPVAVTILLCLYSK'),\n",
       " Seq('QQMFHLVDFQVTIAEILLIIMRTFKVSIWNLDYIINLIIKNLSKSLTENKYSQL...EID'),\n",
       " Seq('TNMKIILFLALITLATCELYHYQECVRGTTVLLKEPCSSGTYEGNSPFHPLADN...KTE'),\n",
       " Seq('LNFH'),\n",
       " Seq('LTSICAF'),\n",
       " Seq('PFCYSLF'),\n",
       " Seq('LCLLSFGSHLNCKIIMKLVTPKRT'),\n",
       " Seq('NFLFS'),\n",
       " Seq('ESSQL'),\n",
       " Seq('LHFTKNVVYSHVLNINHM'),\n",
       " Seq('LMTRVLFTSILNGILE'),\n",
       " Seq('ELENQHL'),\n",
       " Seq('LNCAWMRLVLNHPFSTSISVIIQFPVYLLQLIARNLNWVVL'),\n",
       " Seq('CVVRSMKTF'),\n",
       " Seq('SIMTFVLF'),\n",
       " Seq('ISSKRTN'),\n",
       " Seq('NV'),\n",
       " Seq(''),\n",
       " Seq('WTPKSAKCTPHYVWWTLRFNWQ'),\n",
       " Seq('PEWRTQWGAIKTTSAPRFTQ'),\n",
       " Seq('YCVLVHRSHSTWQGRP'),\n",
       " Seq('IPSRTRRSN'),\n",
       " Seq('HQ'),\n",
       " Seq('QSR'),\n",
       " Seq('PNWLLPKSYQTNSWW'),\n",
       " Seq('R'),\n",
       " Seq('NERSQSKMVFLLPRNWARSWTSLWC'),\n",
       " Seq('QRRHHMGCN'),\n",
       " Seq('GSLEYTKRSHWHPQSC'),\n",
       " Seq('QCCNRATTSSRNNIAKRLLRRREQRRQSSLFSFLIT'),\n",
       " Seq('SQQFKKFNSRQQ'),\n",
       " Seq('GNFSC'),\n",
       " Seq('NGWQWR'),\n",
       " Seq('CCSCFAAA'),\n",
       " Seq('QIEPA'),\n",
       " Seq('EQNVW'),\n",
       " Seq('RPTTTRPNCH'),\n",
       " Seq('EICC'),\n",
       " Seq('GF'),\n",
       " Seq('EASAKTYCH'),\n",
       " Seq('SIQCNTSFRQTWSRTNPRKFWGPGTNQTRN'),\n",
       " Seq('LQTLAANCTICPQRFSVLRNVAHWHGSHTFGNVVDLHRCHQIG'),\n",
       " Seq('QRSKFQRSSHFAE'),\n",
       " Seq('AY'),\n",
       " Seq('RIQNIPTNRA'),\n",
       " Seq('KGQKEEG'),\n",
       " Seq(''),\n",
       " Seq('NSSLTAETEETANCDSSSCCRFG'),\n",
       " Seq('FLQTIATIHEQC'),\n",
       " Seq('LNSGLNSCRPHKADGLYKRFRFSVYDI'),\n",
       " Seq('STLVQNEFS'),\n",
       " Seq('LHSTSRCS'),\n",
       " Seq('L'),\n",
       " Seq('SHIAIFNQCVTLGRT'),\n",
       " Seq('KSHHIFTEATRSTIECTVNNARESCLYGRALMCKINFSSAIPM'),\n",
       " Seq('F'),\n",
       " Seq(''),\n",
       " Seq('LLRRMTKKKKKKKKKK')]"
      ]
     },
     "execution_count": 44,
     "metadata": {},
     "output_type": "execute_result"
    }
   ],
   "source": [
    "ncov_clean"
   ]
  },
  {
   "cell_type": "code",
   "execution_count": 45,
   "id": "c87fb947",
   "metadata": {},
   "outputs": [],
   "source": [
    "import pandas as pd\n",
    "df = pd.DataFrame({'amino_acids': ncov_clean})"
   ]
  },
  {
   "cell_type": "code",
   "execution_count": 46,
   "id": "343f8117",
   "metadata": {},
   "outputs": [],
   "source": [
    "df['count'] = df['amino_acids'].str.len()"
   ]
  },
  {
   "cell_type": "code",
   "execution_count": 47,
   "id": "ef84315b",
   "metadata": {},
   "outputs": [
    {
     "data": {
      "text/html": [
       "<div><div id=9cd3b8ba-96f7-4d57-ac6a-14b8e03f2123 style=\"display:none; background-color:#9D6CFF; color:white; width:200px; height:30px; padding-left:5px; border-radius:4px; flex-direction:row; justify-content:space-around; align-items:center;\" onmouseover=\"this.style.backgroundColor='#BA9BF8'\" onmouseout=\"this.style.backgroundColor='#9D6CFF'\" onclick=\"window.commands?.execute('create-mitosheet-from-dataframe-output');\">See Full Dataframe in Mito</div> <script> if (window.commands.hasCommand('create-mitosheet-from-dataframe-output')) document.getElementById('9cd3b8ba-96f7-4d57-ac6a-14b8e03f2123').style.display = 'flex' </script> <table border=\"1\" class=\"dataframe\">\n",
       "  <thead>\n",
       "    <tr style=\"text-align: right;\">\n",
       "      <th></th>\n",
       "      <th>amino_acids</th>\n",
       "      <th>count</th>\n",
       "    </tr>\n",
       "  </thead>\n",
       "  <tbody>\n",
       "    <tr>\n",
       "      <th>0</th>\n",
       "      <td>(I, K, G, L, Y, L, P, R)</td>\n",
       "      <td>8</td>\n",
       "    </tr>\n",
       "    <tr>\n",
       "      <th>1</th>\n",
       "      <td>(Q, T, N, Q, L, S, I, S, C, R, S, V, L)</td>\n",
       "      <td>13</td>\n",
       "    </tr>\n",
       "    <tr>\n",
       "      <th>2</th>\n",
       "      <td>(T, N, F, K, I, C, V, A, V, T, R, L, H, A)</td>\n",
       "      <td>14</td>\n",
       "    </tr>\n",
       "    <tr>\n",
       "      <th>3</th>\n",
       "      <td>(C, T, H, A, V)</td>\n",
       "      <td>5</td>\n",
       "    </tr>\n",
       "    <tr>\n",
       "      <th>4</th>\n",
       "      <td>(L, I, T, N, Y, C, R)</td>\n",
       "      <td>7</td>\n",
       "    </tr>\n",
       "    <tr>\n",
       "      <th>...</th>\n",
       "      <td>...</td>\n",
       "      <td>...</td>\n",
       "    </tr>\n",
       "    <tr>\n",
       "      <th>770</th>\n",
       "      <td>(S, H, I, A, I, F, N, Q, C, V, T, L, G, R, T)</td>\n",
       "      <td>15</td>\n",
       "    </tr>\n",
       "    <tr>\n",
       "      <th>771</th>\n",
       "      <td>(K, S, H, H, I, F, T, E, A, T, R, S, T, I, E, C, T, V, N, N, A, R, E, S, C, L, Y, G, R, A, L, M, C, K, I, N, F, S, S, A, I, P, M)</td>\n",
       "      <td>43</td>\n",
       "    </tr>\n",
       "    <tr>\n",
       "      <th>772</th>\n",
       "      <td>(F)</td>\n",
       "      <td>1</td>\n",
       "    </tr>\n",
       "    <tr>\n",
       "      <th>773</th>\n",
       "      <td>()</td>\n",
       "      <td>0</td>\n",
       "    </tr>\n",
       "    <tr>\n",
       "      <th>774</th>\n",
       "      <td>(L, L, R, R, M, T, K, K, K, K, K, K, K, K, K, K)</td>\n",
       "      <td>16</td>\n",
       "    </tr>\n",
       "  </tbody>\n",
       "</table></div>"
      ],
      "text/plain": [
       "                                           amino_acids  count\n",
       "0                             (I, K, G, L, Y, L, P, R)      8\n",
       "1              (Q, T, N, Q, L, S, I, S, C, R, S, V, L)     13\n",
       "2           (T, N, F, K, I, C, V, A, V, T, R, L, H, A)     14\n",
       "3                                      (C, T, H, A, V)      5\n",
       "4                                (L, I, T, N, Y, C, R)      7\n",
       "..                                                 ...    ...\n",
       "770      (S, H, I, A, I, F, N, Q, C, V, T, L, G, R, T)     15\n",
       "771  (K, S, H, H, I, F, T, E, A, T, R, S, T, I, E, ...     43\n",
       "772                                                (F)      1\n",
       "773                                                 ()      0\n",
       "774   (L, L, R, R, M, T, K, K, K, K, K, K, K, K, K, K)     16\n",
       "\n",
       "[775 rows x 2 columns]"
      ]
     },
     "execution_count": 47,
     "metadata": {},
     "output_type": "execute_result"
    }
   ],
   "source": [
    "df"
   ]
  },
  {
   "cell_type": "code",
   "execution_count": 48,
   "id": "39d4f823",
   "metadata": {},
   "outputs": [
    {
     "data": {
      "text/html": [
       "<div><div id=6b4ca88b-b77a-4d4a-8603-33c93addb073 style=\"display:none; background-color:#9D6CFF; color:white; width:200px; height:30px; padding-left:5px; border-radius:4px; flex-direction:row; justify-content:space-around; align-items:center;\" onmouseover=\"this.style.backgroundColor='#BA9BF8'\" onmouseout=\"this.style.backgroundColor='#9D6CFF'\" onclick=\"window.commands?.execute('create-mitosheet-from-dataframe-output');\">See Full Dataframe in Mito</div> <script> if (window.commands.hasCommand('create-mitosheet-from-dataframe-output')) document.getElementById('6b4ca88b-b77a-4d4a-8603-33c93addb073').style.display = 'flex' </script> <table border=\"1\" class=\"dataframe\">\n",
       "  <thead>\n",
       "    <tr style=\"text-align: right;\">\n",
       "      <th></th>\n",
       "      <th>amino_acids</th>\n",
       "      <th>count</th>\n",
       "    </tr>\n",
       "  </thead>\n",
       "  <tbody>\n",
       "    <tr>\n",
       "      <th>548</th>\n",
       "      <td>(C, T, I, V, F, K, R, V, C, G, V, S, A, A, R, L, T, P, C, G, T, G, T, S, T, D, V, V, Y, R, A, F, D, I, Y, N, D, K, V, A, G, F, A, K, F, L, K, T, N, C, C, R, F, Q, E, K, D, E, D, D, N, L, I, D, S, Y, F, V, V, K, R, H, T, F, S, N, Y, Q, H, E, E, T, I, Y, N, L, L, K, D, C, P, A, V, A, K, H, D, F, F, K, ...)</td>\n",
       "      <td>2701</td>\n",
       "    </tr>\n",
       "    <tr>\n",
       "      <th>694</th>\n",
       "      <td>(A, S, A, Q, R, S, Q, I, T, L, H, I, N, E, L, M, D, L, F, M, R, I, F, T, I, G, T, V, T, L, K, Q, G, E, I, K, D, A, T, P, S, D, F, V, R, A, T, A, T, I, P, I, Q, A, S, L, P, F, G, W, L, I, V, G, V, A, L, L, A, V, F, Q, S, A, S, K, I, I, T, L, K, K, R, W, Q, L, A, L, S, K, G, V, H, F, V, C, N, L, L, L, ...)</td>\n",
       "      <td>290</td>\n",
       "    </tr>\n",
       "    <tr>\n",
       "      <th>719</th>\n",
       "      <td>(T, N, M, K, I, I, L, F, L, A, L, I, T, L, A, T, C, E, L, Y, H, Y, Q, E, C, V, R, G, T, T, V, L, L, K, E, P, C, S, S, G, T, Y, E, G, N, S, P, F, H, P, L, A, D, N, K, F, A, L, T, C, F, S, T, Q, F, A, F, A, C, P, D, G, V, K, H, V, Y, Q, L, R, A, R, S, V, S, P, K, L, F, I, R, Q, E, E, V, Q, E, L, Y, S, ...)</td>\n",
       "      <td>123</td>\n",
       "    </tr>\n",
       "    <tr>\n",
       "      <th>695</th>\n",
       "      <td>(A, Q, A, D, E, Y, E, L, M, Y, S, F, V, S, E, E, T, G, T, L, I, V, N, S, V, L, L, F, L, A, F, V, V, F, L, L, V, T, L, A, I, L, T, A, L, R, L, C, A, Y, C, C, N, I, V, N, V, S, L, V, K, P, S, F, Y, V, Y, S, R, V, K, N, L, N, S, S, R, V, P, D, L, L, V)</td>\n",
       "      <td>83</td>\n",
       "    </tr>\n",
       "    <tr>\n",
       "      <th>718</th>\n",
       "      <td>(Q, Q, M, F, H, L, V, D, F, Q, V, T, I, A, E, I, L, L, I, I, M, R, T, F, K, V, S, I, W, N, L, D, Y, I, I, N, L, I, I, K, N, L, S, K, S, L, T, E, N, K, Y, S, Q, L, D, E, E, Q, P, M, E, I, D)</td>\n",
       "      <td>63</td>\n",
       "    </tr>\n",
       "    <tr>\n",
       "      <th>6</th>\n",
       "      <td>(D, G, E, P, C, P, W, F, Q, R, E, N, T, R, P, T, Q, F, A, C, F, T, G, S, R, R, A, R, T, W, L, W, R, L, R, G, G, G, L, I, R, G, T, S, T, S)</td>\n",
       "      <td>46</td>\n",
       "    </tr>\n",
       "    <tr>\n",
       "      <th>464</th>\n",
       "      <td>(T, M, L, R, C, Y, F, P, K, C, S, E, K, N, N, Q, G, Y, T, P, L, V, V, T, H, N, F, D, F, T, F, S, F, S, P, E, Y, S, M, V, F, V, L, F, F, V)</td>\n",
       "      <td>46</td>\n",
       "    </tr>\n",
       "    <tr>\n",
       "      <th>539</th>\n",
       "      <td>(D, V, V, Y, T, H, W, Y, W, S, G, N, N, S, Y, T, G, S, Q, Y, G, S, R, I, L, W, W, C, I, V, L, S, V, L, P, L, P, H, R, S, S, K, S)</td>\n",
       "      <td>43</td>\n",
       "    </tr>\n",
       "    <tr>\n",
       "      <th>758</th>\n",
       "      <td>(L, Q, T, L, A, A, N, C, T, I, C, P, Q, R, F, S, V, L, R, N, V, A, H, W, H, G, S, H, T, F, G, N, V, V, D, L, H, R, C, H, Q, I, G)</td>\n",
       "      <td>43</td>\n",
       "    </tr>\n",
       "    <tr>\n",
       "      <th>771</th>\n",
       "      <td>(K, S, H, H, I, F, T, E, A, T, R, S, T, I, E, C, T, V, N, N, A, R, E, S, C, L, Y, G, R, A, L, M, C, K, I, N, F, S, S, A, I, P, M)</td>\n",
       "      <td>43</td>\n",
       "    </tr>\n",
       "  </tbody>\n",
       "</table></div>"
      ],
      "text/plain": [
       "                                           amino_acids  count\n",
       "548  (C, T, I, V, F, K, R, V, C, G, V, S, A, A, R, ...   2701\n",
       "694  (A, S, A, Q, R, S, Q, I, T, L, H, I, N, E, L, ...    290\n",
       "719  (T, N, M, K, I, I, L, F, L, A, L, I, T, L, A, ...    123\n",
       "695  (A, Q, A, D, E, Y, E, L, M, Y, S, F, V, S, E, ...     83\n",
       "718  (Q, Q, M, F, H, L, V, D, F, Q, V, T, I, A, E, ...     63\n",
       "6    (D, G, E, P, C, P, W, F, Q, R, E, N, T, R, P, ...     46\n",
       "464  (T, M, L, R, C, Y, F, P, K, C, S, E, K, N, N, ...     46\n",
       "539  (D, V, V, Y, T, H, W, Y, W, S, G, N, N, S, Y, ...     43\n",
       "758  (L, Q, T, L, A, A, N, C, T, I, C, P, Q, R, F, ...     43\n",
       "771  (K, S, H, H, I, F, T, E, A, T, R, S, T, I, E, ...     43"
      ]
     },
     "execution_count": 48,
     "metadata": {},
     "output_type": "execute_result"
    }
   ],
   "source": [
    "#largest sequence before *\n",
    "df.nlargest(10,'count')"
   ]
  },
  {
   "cell_type": "code",
   "execution_count": 49,
   "id": "ad821639",
   "metadata": {},
   "outputs": [
    {
     "data": {
      "text/plain": [
       "[('L', 886),\n",
       " ('S', 810),\n",
       " ('*', 774),\n",
       " ('T', 679),\n",
       " ('C', 635),\n",
       " ('F', 593),\n",
       " ('R', 558),\n",
       " ('V', 548),\n",
       " ('Y', 505),\n",
       " ('N', 472)]"
      ]
     },
     "execution_count": 49,
     "metadata": {},
     "output_type": "execute_result"
    }
   ],
   "source": [
    "# count of frequency of amino acids\n",
    "from collections import Counter\n",
    "Counter(ncov_protein).most_common(10)"
   ]
  },
  {
   "cell_type": "markdown",
   "id": "f6d75a09",
   "metadata": {},
   "source": [
    "# 3D structure of covid"
   ]
  },
  {
   "cell_type": "code",
   "execution_count": 50,
   "id": "42e886f3",
   "metadata": {},
   "outputs": [],
   "source": [
    " from Bio.PDB import PDBParser"
   ]
  },
  {
   "cell_type": "code",
   "execution_count": 51,
   "id": "bb2a8c82",
   "metadata": {},
   "outputs": [
    {
     "name": "stderr",
     "output_type": "stream",
     "text": [
      "C:\\Users\\mehak\\AppData\\Local\\Programs\\Python\\Python310\\lib\\site-packages\\Bio\\PDB\\StructureBuilder.py:89: PDBConstructionWarning: WARNING: Chain A is discontinuous at line 2811.\n",
      "  warnings.warn(\n"
     ]
    }
   ],
   "source": [
    "#read our pdb file\n",
    "parser = PDBParser()\n",
    "structure = parser.get_structure('6lu7','6lu7.pdb')"
   ]
  },
  {
   "cell_type": "code",
   "execution_count": 52,
   "id": "0a976aaa",
   "metadata": {},
   "outputs": [
    {
     "data": {
      "text/plain": [
       "1"
      ]
     },
     "execution_count": 52,
     "metadata": {},
     "output_type": "execute_result"
    }
   ],
   "source": [
    "len(structure)"
   ]
  },
  {
   "cell_type": "code",
   "execution_count": 53,
   "id": "1e978b5d",
   "metadata": {},
   "outputs": [],
   "source": [
    "model = structure[0]"
   ]
  },
  {
   "cell_type": "code",
   "execution_count": 54,
   "id": "ce1b0c7f",
   "metadata": {},
   "outputs": [
    {
     "name": "stdout",
     "output_type": "stream",
     "text": [
      "<Chain id=A>\n",
      "<Chain id=C>\n"
     ]
    }
   ],
   "source": [
    "for chain in model:\n",
    "    print(chain)"
   ]
  },
  {
   "cell_type": "code",
   "execution_count": 58,
   "id": "13f82b9f",
   "metadata": {},
   "outputs": [
    {
     "data": {
      "application/vnd.jupyter.widget-view+json": {
       "model_id": "f9ced906ba404e97893b5c63110986f5",
       "version_major": 2,
       "version_minor": 0
      },
      "text/plain": []
     },
     "metadata": {},
     "output_type": "display_data"
    }
   ],
   "source": [
    "#3d visualization\n",
    "import nglview as nv"
   ]
  },
  {
   "cell_type": "code",
   "execution_count": 59,
   "id": "a9a0d27d",
   "metadata": {
    "scrolled": true
   },
   "outputs": [
    {
     "data": {
      "application/vnd.jupyter.widget-view+json": {
       "model_id": "8e1d6394c7e44bbc972539bfd116ec9e",
       "version_major": 2,
       "version_minor": 0
      },
      "text/plain": [
       "NGLWidget()"
      ]
     },
     "metadata": {},
     "output_type": "display_data"
    }
   ],
   "source": [
    "nv.demo()"
   ]
  },
  {
   "cell_type": "code",
   "execution_count": 60,
   "id": "e655b052",
   "metadata": {},
   "outputs": [],
   "source": [
    "#covid 3d structure\n",
    "view = nv.show_biopython(structure)"
   ]
  },
  {
   "cell_type": "code",
   "execution_count": 61,
   "id": "70f95962",
   "metadata": {},
   "outputs": [
    {
     "data": {
      "application/vnd.jupyter.widget-view+json": {
       "model_id": "6450aac6f7be42aca57f17e281defbb5",
       "version_major": 2,
       "version_minor": 0
      },
      "text/plain": [
       "NGLWidget()"
      ]
     },
     "metadata": {},
     "output_type": "display_data"
    }
   ],
   "source": [
    "view"
   ]
  },
  {
   "cell_type": "code",
   "execution_count": 62,
   "id": "c7807ec9",
   "metadata": {},
   "outputs": [
    {
     "name": "stdout",
     "output_type": "stream",
     "text": [
      "Requirement already satisfied: py3DMol in c:\\users\\mehak\\appdata\\local\\programs\\python\\python310\\lib\\site-packages (1.8.0)\n"
     ]
    }
   ],
   "source": [
    "#using Py3dMol\n",
    "!pip install py3DMol"
   ]
  },
  {
   "cell_type": "code",
   "execution_count": 63,
   "id": "c3f38333",
   "metadata": {},
   "outputs": [],
   "source": [
    "import py3Dmol\n",
    "view2 = py3Dmol.view(query='6LU7')"
   ]
  },
  {
   "cell_type": "code",
   "execution_count": 64,
   "id": "08989c5c",
   "metadata": {},
   "outputs": [
    {
     "data": {
      "application/3dmoljs_load.v0": "<div id=\"3dmolviewer_16444950521252477\"  style=\"position: relative; width: 640px; height: 480px\">\n        <p id=\"3dmolwarning_16444950521252477\" style=\"background-color:#ffcccc;color:black\">You appear to be running in JupyterLab (or JavaScript failed to load for some other reason).  You need to install the 3dmol extension: <br>\n        <tt>jupyter labextension install jupyterlab_3dmol</tt></p>\n        </div>\n<script>\n\nvar loadScriptAsync = function(uri){\n  return new Promise((resolve, reject) => {\n    var tag = document.createElement('script');\n    tag.src = uri;\n    tag.async = true;\n    tag.onload = () => {\n      resolve();\n    };\n  var firstScriptTag = document.getElementsByTagName('script')[0];\n  firstScriptTag.parentNode.insertBefore(tag, firstScriptTag);\n});\n};\n\nif(typeof $3Dmolpromise === 'undefined') {\n$3Dmolpromise = null;\n  $3Dmolpromise = loadScriptAsync('https://3dmol.org/build/3Dmol.js');\n}\n\nvar viewer_16444950521252477 = null;\nvar warn = document.getElementById(\"3dmolwarning_16444950521252477\");\nif(warn) {\n    warn.parentNode.removeChild(warn);\n}\n$3Dmolpromise.then(function() {\nviewer_16444950521252477 = $3Dmol.createViewer($(\"#3dmolviewer_16444950521252477\"),{backgroundColor:\"white\"});\n$3Dmol.download(\"6LU7\", viewer_16444950521252477, {}, function() {\nviewer_16444950521252477.zoomTo();\n\tviewer_16444950521252477.setStyle({\"cartoon\": {\"color\": \"spectrum\"}});\nviewer_16444950521252477.render();\n})\n});\n</script>",
      "text/html": [
       "<div id=\"3dmolviewer_16444950521252477\"  style=\"position: relative; width: 640px; height: 480px\">\n",
       "        <p id=\"3dmolwarning_16444950521252477\" style=\"background-color:#ffcccc;color:black\">You appear to be running in JupyterLab (or JavaScript failed to load for some other reason).  You need to install the 3dmol extension: <br>\n",
       "        <tt>jupyter labextension install jupyterlab_3dmol</tt></p>\n",
       "        </div>\n",
       "<script>\n",
       "\n",
       "var loadScriptAsync = function(uri){\n",
       "  return new Promise((resolve, reject) => {\n",
       "    var tag = document.createElement('script');\n",
       "    tag.src = uri;\n",
       "    tag.async = true;\n",
       "    tag.onload = () => {\n",
       "      resolve();\n",
       "    };\n",
       "  var firstScriptTag = document.getElementsByTagName('script')[0];\n",
       "  firstScriptTag.parentNode.insertBefore(tag, firstScriptTag);\n",
       "});\n",
       "};\n",
       "\n",
       "if(typeof $3Dmolpromise === 'undefined') {\n",
       "$3Dmolpromise = null;\n",
       "  $3Dmolpromise = loadScriptAsync('https://3dmol.org/build/3Dmol.js');\n",
       "}\n",
       "\n",
       "var viewer_16444950521252477 = null;\n",
       "var warn = document.getElementById(\"3dmolwarning_16444950521252477\");\n",
       "if(warn) {\n",
       "    warn.parentNode.removeChild(warn);\n",
       "}\n",
       "$3Dmolpromise.then(function() {\n",
       "viewer_16444950521252477 = $3Dmol.createViewer($(\"#3dmolviewer_16444950521252477\"),{backgroundColor:\"white\"});\n",
       "$3Dmol.download(\"6LU7\", viewer_16444950521252477, {}, function() {\n",
       "viewer_16444950521252477.zoomTo();\n",
       "\tviewer_16444950521252477.setStyle({\"cartoon\": {\"color\": \"spectrum\"}});\n",
       "viewer_16444950521252477.render();\n",
       "})\n",
       "});\n",
       "</script>"
      ]
     },
     "metadata": {},
     "output_type": "display_data"
    },
    {
     "data": {
      "text/plain": [
       "<py3Dmol.view at 0x190b50a3400>"
      ]
     },
     "execution_count": 64,
     "metadata": {},
     "output_type": "execute_result"
    }
   ],
   "source": [
    "view2.setStyle({'cartoon':{'color':'spectrum'}})"
   ]
  },
  {
   "cell_type": "code",
   "execution_count": 65,
   "id": "a14ea11e",
   "metadata": {},
   "outputs": [
    {
     "data": {
      "application/3dmoljs_load.v0": "<div id=\"3dmolviewer_1644495089939305\"  style=\"position: relative; width: 640px; height: 480px\">\n        <p id=\"3dmolwarning_1644495089939305\" style=\"background-color:#ffcccc;color:black\">You appear to be running in JupyterLab (or JavaScript failed to load for some other reason).  You need to install the 3dmol extension: <br>\n        <tt>jupyter labextension install jupyterlab_3dmol</tt></p>\n        </div>\n<script>\n\nvar loadScriptAsync = function(uri){\n  return new Promise((resolve, reject) => {\n    var tag = document.createElement('script');\n    tag.src = uri;\n    tag.async = true;\n    tag.onload = () => {\n      resolve();\n    };\n  var firstScriptTag = document.getElementsByTagName('script')[0];\n  firstScriptTag.parentNode.insertBefore(tag, firstScriptTag);\n});\n};\n\nif(typeof $3Dmolpromise === 'undefined') {\n$3Dmolpromise = null;\n  $3Dmolpromise = loadScriptAsync('https://3dmol.org/build/3Dmol.js');\n}\n\nvar viewer_1644495089939305 = null;\nvar warn = document.getElementById(\"3dmolwarning_1644495089939305\");\nif(warn) {\n    warn.parentNode.removeChild(warn);\n}\n$3Dmolpromise.then(function() {\nviewer_1644495089939305 = $3Dmol.createViewer($(\"#3dmolviewer_1644495089939305\"),{backgroundColor:\"white\"});\n$3Dmol.download(\"6LU7\", viewer_1644495089939305, {}, function() {\nviewer_1644495089939305.zoomTo();\n\tviewer_1644495089939305.setStyle({\"cartoon\": {\"color\": \"spectrum\"}});\n\tviewer_1644495089939305.render_image();\nviewer_1644495089939305.render();\n})\n});\n</script>",
      "text/html": [
       "<div id=\"3dmolviewer_1644495089939305\"  style=\"position: relative; width: 640px; height: 480px\">\n",
       "        <p id=\"3dmolwarning_1644495089939305\" style=\"background-color:#ffcccc;color:black\">You appear to be running in JupyterLab (or JavaScript failed to load for some other reason).  You need to install the 3dmol extension: <br>\n",
       "        <tt>jupyter labextension install jupyterlab_3dmol</tt></p>\n",
       "        </div>\n",
       "<script>\n",
       "\n",
       "var loadScriptAsync = function(uri){\n",
       "  return new Promise((resolve, reject) => {\n",
       "    var tag = document.createElement('script');\n",
       "    tag.src = uri;\n",
       "    tag.async = true;\n",
       "    tag.onload = () => {\n",
       "      resolve();\n",
       "    };\n",
       "  var firstScriptTag = document.getElementsByTagName('script')[0];\n",
       "  firstScriptTag.parentNode.insertBefore(tag, firstScriptTag);\n",
       "});\n",
       "};\n",
       "\n",
       "if(typeof $3Dmolpromise === 'undefined') {\n",
       "$3Dmolpromise = null;\n",
       "  $3Dmolpromise = loadScriptAsync('https://3dmol.org/build/3Dmol.js');\n",
       "}\n",
       "\n",
       "var viewer_1644495089939305 = null;\n",
       "var warn = document.getElementById(\"3dmolwarning_1644495089939305\");\n",
       "if(warn) {\n",
       "    warn.parentNode.removeChild(warn);\n",
       "}\n",
       "$3Dmolpromise.then(function() {\n",
       "viewer_1644495089939305 = $3Dmol.createViewer($(\"#3dmolviewer_1644495089939305\"),{backgroundColor:\"white\"});\n",
       "$3Dmol.download(\"6LU7\", viewer_1644495089939305, {}, function() {\n",
       "viewer_1644495089939305.zoomTo();\n",
       "\tviewer_1644495089939305.setStyle({\"cartoon\": {\"color\": \"spectrum\"}});\n",
       "\tviewer_1644495089939305.render_image();\n",
       "viewer_1644495089939305.render();\n",
       "})\n",
       "});\n",
       "</script>"
      ]
     },
     "metadata": {},
     "output_type": "display_data"
    },
    {
     "data": {
      "text/plain": [
       "<py3Dmol.view at 0x190b50a3400>"
      ]
     },
     "execution_count": 65,
     "metadata": {},
     "output_type": "execute_result"
    }
   ],
   "source": [
    "view2.render_image()"
   ]
  },
  {
   "cell_type": "code",
   "execution_count": null,
   "id": "bf7a0f75",
   "metadata": {},
   "outputs": [],
   "source": []
  }
 ],
 "metadata": {
  "kernelspec": {
   "display_name": "Python 3 (ipykernel)",
   "language": "python",
   "name": "python3"
  },
  "language_info": {
   "codemirror_mode": {
    "name": "ipython",
    "version": 3
   },
   "file_extension": ".py",
   "mimetype": "text/x-python",
   "name": "python",
   "nbconvert_exporter": "python",
   "pygments_lexer": "ipython3",
   "version": "3.10.1"
  }
 },
 "nbformat": 4,
 "nbformat_minor": 5
}
