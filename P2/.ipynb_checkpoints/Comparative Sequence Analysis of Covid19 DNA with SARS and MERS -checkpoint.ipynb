{
 "cells": [
  {
   "cell_type": "code",
   "execution_count": 1,
   "id": "4809d2d0",
   "metadata": {},
   "outputs": [],
   "source": [
    "from Bio.Seq import Seq"
   ]
  },
  {
   "cell_type": "code",
   "execution_count": 23,
   "id": "d6119c20",
   "metadata": {},
   "outputs": [],
   "source": [
    "seq1=Seq('ACTGCA')\n",
    "seq2=Seq('AC')"
   ]
  },
  {
   "cell_type": "code",
   "execution_count": 24,
   "id": "4a336918",
   "metadata": {},
   "outputs": [],
   "source": [
    "#method 1\n",
    "from Bio.SeqUtils import GC"
   ]
  },
  {
   "cell_type": "code",
   "execution_count": 25,
   "id": "6aa1b1b0",
   "metadata": {},
   "outputs": [
    {
     "data": {
      "text/plain": [
       "50.0"
      ]
     },
     "execution_count": 25,
     "metadata": {},
     "output_type": "execute_result"
    }
   ],
   "source": [
    "#check GC percentage\n",
    "GC(seq1)"
   ]
  },
  {
   "cell_type": "code",
   "execution_count": 26,
   "id": "8becad50",
   "metadata": {},
   "outputs": [],
   "source": [
    "#method 2\n",
    "def gc_content(seq):\n",
    "    result = float(seq.count('G')+ seq.count('C'))/len(seq) * 100\n",
    "    return result"
   ]
  },
  {
   "cell_type": "code",
   "execution_count": 27,
   "id": "5f74968c",
   "metadata": {},
   "outputs": [
    {
     "data": {
      "text/plain": [
       "50.0"
      ]
     },
     "execution_count": 27,
     "metadata": {},
     "output_type": "execute_result"
    }
   ],
   "source": [
    "gc_content(seq1)"
   ]
  },
  {
   "cell_type": "code",
   "execution_count": 28,
   "id": "5f666435",
   "metadata": {},
   "outputs": [],
   "source": [
    "#method 3\n",
    "def gc_content2(seq):\n",
    "    gc_count= [ N for N in seq if N in 'GC']\n",
    "    result = float(len(gc_count ))/len(seq) * 100\n",
    "    return result"
   ]
  },
  {
   "cell_type": "code",
   "execution_count": 29,
   "id": "d7bc179d",
   "metadata": {},
   "outputs": [
    {
     "data": {
      "text/plain": [
       "50.0"
      ]
     },
     "execution_count": 29,
     "metadata": {},
     "output_type": "execute_result"
    }
   ],
   "source": [
    "gc_content2(seq1)"
   ]
  },
  {
   "cell_type": "markdown",
   "id": "f7081f3e",
   "metadata": {},
   "source": [
    "# Alignment types"
   ]
  },
  {
   "cell_type": "code",
   "execution_count": 30,
   "id": "97d29740",
   "metadata": {},
   "outputs": [],
   "source": [
    "from Bio import pairwise2\n",
    "from Bio.pairwise2 import format_alignment"
   ]
  },
  {
   "cell_type": "code",
   "execution_count": 31,
   "id": "b27799c4",
   "metadata": {},
   "outputs": [],
   "source": [
    "alignments = pairwise2.align.globalxx(seq1,seq2)"
   ]
  },
  {
   "cell_type": "code",
   "execution_count": 32,
   "id": "d57c2ec3",
   "metadata": {},
   "outputs": [
    {
     "name": "stdout",
     "output_type": "stream",
     "text": [
      "[Alignment(seqA='ACTGCA', seqB='A---C-', score=2.0, start=0, end=6), Alignment(seqA='ACTGCA', seqB='AC----', score=2.0, start=0, end=6)]\n"
     ]
    }
   ],
   "source": [
    "print(alignments)"
   ]
  },
  {
   "cell_type": "code",
   "execution_count": 33,
   "id": "ae28eaef",
   "metadata": {},
   "outputs": [
    {
     "name": "stdout",
     "output_type": "stream",
     "text": [
      "ACTGCA\n",
      "|   | \n",
      "A---C-\n",
      "  Score=2\n",
      "\n"
     ]
    }
   ],
   "source": [
    "print(format_alignment(*alignments[0]))"
   ]
  },
  {
   "cell_type": "code",
   "execution_count": 34,
   "id": "009df589",
   "metadata": {},
   "outputs": [
    {
     "name": "stdout",
     "output_type": "stream",
     "text": [
      "ACTGCA\n",
      "|   | \n",
      "A---C-\n",
      "  Score=2\n",
      "\n",
      "ACTGCA\n",
      "||    \n",
      "AC----\n",
      "  Score=2\n",
      "\n"
     ]
    }
   ],
   "source": [
    "# see all the alignments\n",
    "for a in alignments:\n",
    "    print(format_alignment(*a))"
   ]
  },
  {
   "cell_type": "code",
   "execution_count": 35,
   "id": "c54c4e93",
   "metadata": {},
   "outputs": [],
   "source": [
    "# get only score\n",
    "alignments2=pairwise2.align.globalxx(seq1,seq2,score_only=True,one_alignment_only=True)"
   ]
  },
  {
   "cell_type": "code",
   "execution_count": 36,
   "id": "aa6faab3",
   "metadata": {},
   "outputs": [
    {
     "data": {
      "text/plain": [
       "2.0"
      ]
     },
     "execution_count": 36,
     "metadata": {},
     "output_type": "execute_result"
    }
   ],
   "source": [
    "alignments2"
   ]
  },
  {
   "cell_type": "code",
   "execution_count": 37,
   "id": "09d5a6bb",
   "metadata": {},
   "outputs": [
    {
     "data": {
      "text/plain": [
       "0.3333333333333333"
      ]
     },
     "execution_count": 37,
     "metadata": {},
     "output_type": "execute_result"
    }
   ],
   "source": [
    "alignments2/len(seq1)"
   ]
  },
  {
   "cell_type": "markdown",
   "id": "b9bcd3f6",
   "metadata": {},
   "source": [
    "# Hamming Distance"
   ]
  },
  {
   "cell_type": "code",
   "execution_count": 38,
   "id": "db966ac8",
   "metadata": {},
   "outputs": [],
   "source": [
    "def hamming_distaance(lhs,rhs):\n",
    "    return len([(x,y) for x,y in zip(lhs,rhs) if x != y] )"
   ]
  },
  {
   "cell_type": "code",
   "execution_count": 39,
   "id": "c10545e0",
   "metadata": {},
   "outputs": [
    {
     "data": {
      "text/plain": [
       "0"
      ]
     },
     "execution_count": 39,
     "metadata": {},
     "output_type": "execute_result"
    }
   ],
   "source": [
    "hamming_distaance(seq1,seq2)"
   ]
  },
  {
   "cell_type": "code",
   "execution_count": 43,
   "id": "7d4224d6",
   "metadata": {},
   "outputs": [
    {
     "data": {
      "text/plain": [
       "1"
      ]
     },
     "execution_count": 43,
     "metadata": {},
     "output_type": "execute_result"
    }
   ],
   "source": [
    "hamming_distaance('ACCTA','ACtTA')"
   ]
  },
  {
   "cell_type": "markdown",
   "id": "7e40dd53",
   "metadata": {},
   "source": [
    "# Dot plot"
   ]
  },
  {
   "cell_type": "code",
   "execution_count": 47,
   "id": "091aea84",
   "metadata": {},
   "outputs": [],
   "source": [
    "def delta(x,y):\n",
    "    return 0 if x == y else 1\n",
    "def M(seq1,seq2,i,j,k):\n",
    "    return sum(delta(x,y) for x,y in zip(seq1[i:i+k],seq2[j:j+k]))\n",
    "def makeMatrix(seq1,seq2,k):\n",
    "    n = len(seq1)\n",
    "    m = len(seq2)\n",
    "    return [[M(seq1,seq2,i,j,k) for j in range(m-k+1)] for i in range(n-k+1)]\n",
    "def plotMatrix(M,t, seq1, seq2, nonblank = chr(0x25A0), blank = ' '):\n",
    "    print(' |' + seq2)\n",
    "    print('-'*(2 + len(seq2)))\n",
    "    for label,row in zip(seq1,M):\n",
    "        line = ''.join(nonblank if s < t else blank for s in row)\n",
    "        print(label + '|' + line)\n",
    "def dotplot(seq1,seq2,k = 1,t = 1):\n",
    "    M = makeMatrix(seq1,seq2,k)\n",
    "    plotMatrix(M, t, seq1,seq2)"
   ]
  },
  {
   "cell_type": "code",
   "execution_count": 48,
   "id": "c89826c0",
   "metadata": {},
   "outputs": [
    {
     "name": "stdout",
     "output_type": "stream",
     "text": [
      " |AC\n",
      "----\n",
      "A|■ \n",
      "C| ■\n",
      "T|  \n",
      "G|  \n",
      "C| ■\n",
      "A|■ \n"
     ]
    }
   ],
   "source": [
    "dotplot(seq1,seq2)"
   ]
  },
  {
   "cell_type": "code",
   "execution_count": 52,
   "id": "bdec3eff",
   "metadata": {},
   "outputs": [
    {
     "data": {
      "image/png": "[encoded data removed]",
      "text/plain": [
       "<Figure size 432x288 with 1 Axes>"
      ]
     },
     "metadata": {
      "needs_background": "light"
     },
     "output_type": "display_data"
    }
   ],
   "source": [
    "import numpy as np\n",
    "import matplotlib.pyplot as plt\n",
    "dotplot=plt.imshow(np.array(makeMatrix(seq1,seq2,1)))\n",
    "xt=plt.xticks(np.arange(len(list(seq1))),list(seq1))\n",
    "yt=plt.yticks(np.arange(len(list(seq1))),list(seq1))\n",
    "plt.show()"
   ]
  },
  {
   "cell_type": "code",
   "execution_count": 56,
   "id": "bcfb638b",
   "metadata": {},
   "outputs": [],
   "source": [
    "def dotplot(seq1,seq2):\n",
    "    plt.imshow(np.array(makeMatrix(seq1,seq2,1)))\n",
    "    xt=plt.xticks(numpy.arange(len(list(seq2))),list(seq2))\n",
    "    yt=plt.yticks(numpy.arange(len(list(seq1))),list(seq1))\n",
    "    plt.show()"
   ]
  },
  {
   "cell_type": "code",
   "execution_count": 57,
   "id": "2b1f8ade",
   "metadata": {},
   "outputs": [
    {
     "data": {
      "image/png": "[encoded data removed]",
      "text/plain": [
       "<Figure size 432x288 with 1 Axes>"
      ]
     },
     "metadata": {
      "needs_background": "light"
     },
     "output_type": "display_data"
    }
   ],
   "source": [
    "dotplot(seq1,seq2)"
   ]
  },
  {
   "cell_type": "code",
   "execution_count": 58,
   "id": "f045980d",
   "metadata": {},
   "outputs": [],
   "source": [
    "from Bio import SeqIO"
   ]
  },
  {
   "cell_type": "code",
   "execution_count": 59,
   "id": "5e31de34",
   "metadata": {},
   "outputs": [],
   "source": [
    "covid = SeqIO.read('Covid.fasta', 'fasta')\n",
    "mers = SeqIO.read('MERS.fasta', 'fasta')\n",
    "sars = SeqIO.read('SARS.fasta', 'fasta')\n",
    "ebola = SeqIO.read('Ebola.fasta', 'fasta')"
   ]
  },
  {
   "cell_type": "code",
   "execution_count": 62,
   "id": "969ce76c",
   "metadata": {},
   "outputs": [],
   "source": [
    "#convert or get sequences\n",
    "covid_seq= covid.seq\n",
    "sars_seq= sars.seq\n",
    "mers_seq= mers.seq\n",
    "ebola_seq= ebola.seq"
   ]
  },
  {
   "cell_type": "code",
   "execution_count": 66,
   "id": "dad2ebb9",
   "metadata": {},
   "outputs": [
    {
     "name": "stdout",
     "output_type": "stream",
     "text": [
      "29903\n",
      "29751\n",
      "30119\n",
      "18959\n"
     ]
    }
   ],
   "source": [
    "print(len(covid_seq))\n",
    "print(len(sars_seq))\n",
    "print(len(mers_seq))\n",
    "print(len(ebola_seq))"
   ]
  },
  {
   "cell_type": "code",
   "execution_count": 68,
   "id": "4f99bdb6",
   "metadata": {},
   "outputs": [
    {
     "name": "stdout",
     "output_type": "stream",
     "text": [
      "GC of covid_seq:  37.97277865097148\n",
      "GC of sars_seq:  40.7616550704178\n",
      "GC of mers_seq:  41.23642883229855\n",
      "GC of ebola_seq:  41.07284139458832\n"
     ]
    }
   ],
   "source": [
    "# check gc content\n",
    "print(\"GC of covid_seq: \" ,GC(covid_seq))\n",
    "print(\"GC of sars_seq: \" ,GC(sars_seq))\n",
    "print(\"GC of mers_seq: \" ,GC(mers_seq))\n",
    "print(\"GC of ebola_seq: \" ,GC(ebola_seq))"
   ]
  },
  {
   "cell_type": "code",
   "execution_count": null,
   "id": "3c31abf8",
   "metadata": {},
   "outputs": [],
   "source": []
  }
 ],
 "metadata": {
  "kernelspec": {
   "display_name": "Python 3 (ipykernel)",
   "language": "python",
   "name": "python3"
  },
  "language_info": {
   "codemirror_mode": {
    "name": "ipython",
    "version": 3
   },
   "file_extension": ".py",
   "mimetype": "text/x-python",
   "name": "python",
   "nbconvert_exporter": "python",
   "pygments_lexer": "ipython3",
   "version": "3.10.1"
  }
 },
 "nbformat": 4,
 "nbformat_minor": 5
}
